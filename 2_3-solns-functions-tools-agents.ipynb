{
 "cells": [
  {
   "cell_type": "markdown",
   "metadata": {},
   "source": [
    "<a target=\"_blank\" href=\"https://colab.research.google.com/github/vanderbilt-data-science/ai_summer/blob/main/2_3-solns-functions-tools-agents.ipynb\">\n",
    "  <img src=\"https://colab.research.google.com/assets/colab-badge.svg\" alt=\"Open In Colab\"/>\n",
    "</a>\n",
    "\n",
    "# Tools, Agents, and Assistants\n",
    "> For Vanderbilt University AI Summer 2024<br>Prepared by Dr. Charreau Bell\n",
    "\n",
    "_Code versions applicable: May 17, 2024_\n",
    "\n",
    "## Learning Outcomes\n",
    "* Participants will understand schemas and algorithms for usage in function calling and tool calling applications and articulate the behavior.\n",
    "* Participants will be able to describe the behavior of agents and articulate fundamental advantages and disadvantages this approach.\n",
    "* Participants will be able to leverage schemas, tool calling, function calling, agents, API assistants to enhance the capabilities and flexibility of their generative AI applications."
   ]
  },
  {
   "cell_type": "code",
   "execution_count": null,
   "metadata": {},
   "outputs": [],
   "source": [
    "#! pip install langchain==0.1.20 langchain_openai sentence-transformers duckduckgo-search gradio\n",
    "#! pip install pypdf chromadb faiss-cpu"
   ]
  },
  {
   "cell_type": "code",
   "execution_count": null,
   "metadata": {},
   "outputs": [],
   "source": [
    "import os"
   ]
  },
  {
   "cell_type": "code",
   "execution_count": null,
   "metadata": {},
   "outputs": [],
   "source": [
    "# auth replicated here for reference just in case you choose to do something similar\n",
    "from google.colab import userdata\n",
    "os.environ['OPENAI_API_KEY'] = userdata.get('OPENAI_API_KEY')"
   ]
  },
  {
   "cell_type": "code",
   "execution_count": null,
   "metadata": {},
   "outputs": [],
   "source": [
    "# enable tracing and set project name\n",
    "os.environ['LANGCHAIN_TRACING_V2'] = \"false\"\n",
    "\n",
    "# uncomment the following two lines before running the cell if you have a Langchain/Langsmith API Key\n",
    "#os.environ['LANGCHAIN_API_KEY'] = userdata.get('LANGCHAIN_API_KEY')\n",
    "#os.environ['LANGCHAIN_TRACING_V2'] = \"true\"\n",
    "\n",
    "# set langchain project\n",
    "os.environ['LANGCHAIN_PROJECT'] = 'May17'"
   ]
  },
  {
   "cell_type": "markdown",
   "metadata": {},
   "source": [
    "## Schemas\n",
    "Resources:\n",
    "* [Structured Output](https://python.langchain.com/v0.1/docs/modules/model_io/chat/structured_output/)"
   ]
  },
  {
   "cell_type": "code",
   "execution_count": null,
   "metadata": {},
   "outputs": [],
   "source": [
    "from typing import Optional, List, Dict, Any\n",
    "from langchain_core.pydantic_v1 import BaseModel, Field\n",
    "\n",
    "from langchain_core.prompts import ChatPromptTemplate\n",
    "from langchain_openai import ChatOpenAI"
   ]
  },
  {
   "cell_type": "code",
   "execution_count": null,
   "metadata": {},
   "outputs": [],
   "source": [
    "# example interview information\n",
    "interview_text = \"\"\"My name is Jackson. I'm from Pittsburgh, Pennsylvania, and I graduated college in 2019.\n",
    "I'm currently working as an administrative assistant at a law firm. I like to go hiking and play video games in my free time.\"\"\""
   ]
  },
  {
   "cell_type": "code",
   "execution_count": null,
   "metadata": {},
   "outputs": [],
   "source": [
    "# specify the output schema\n",
    "class PersonInformation(BaseModel):\n",
    "    \"\"\"Structured information about a person extracted from an interview.\"\"\"\n",
    "\n",
    "    name: str = Field(default='', description=\"The person's name.\")\n",
    "    home: str = Field(default='', description=\"Where the person is from.\")\n",
    "    graduation_year: int = Field(default=None, description=\"The year the person graduated.\")\n",
    "    job_title: str = Field(default='', description=\"The person's job title.\")\n",
    "    hobbies: List[str] = Field(default=[], description=\"The person's hobbies.\")\n"
   ]
  },
  {
   "cell_type": "code",
   "execution_count": null,
   "metadata": {},
   "outputs": [
    {
     "name": "stderr",
     "output_type": "stream",
     "text": [
      "/Users/bellcs1/miniconda3/envs/textllms/lib/python3.11/site-packages/langchain_core/_api/beta_decorator.py:87: LangChainBetaWarning: The method `ChatOpenAI.with_structured_output` is in beta. It is actively being worked on, so the API may change.\n",
      "  warn_beta(\n"
     ]
    }
   ],
   "source": [
    "# use a model with function calling enabled\n",
    "model = ChatOpenAI(model=\"gpt-3.5-turbo-0125\", temperature=0)\n",
    "structured_chatllm = model.with_structured_output(PersonInformation)"
   ]
  },
  {
   "cell_type": "code",
   "execution_count": null,
   "metadata": {},
   "outputs": [
    {
     "data": {
      "text/plain": [
       "PersonInformation(name='Jackson', home='Pittsburgh, Pennsylvania', graduation_year=2019, job_title='administrative assistant at a law firm', hobbies=['hiking', 'playing video games'])"
      ]
     },
     "execution_count": null,
     "metadata": {},
     "output_type": "execute_result"
    }
   ],
   "source": [
    "# create human prompt to send\n",
    "text_prompt = f\"Extract the person's name, home, graduation year, job title, and hobbies from the following interview text: \\n\\n{interview_text}\"\n",
    "\n",
    "# get structured output (hopefully)\n",
    "structured_info = structured_chatllm.invoke(text_prompt)\n",
    "structured_info"
   ]
  },
  {
   "cell_type": "code",
   "execution_count": null,
   "metadata": {},
   "outputs": [
    {
     "data": {
      "text/plain": [
       "{'name': 'Jackson',\n",
       " 'home': 'Pittsburgh, Pennsylvania',\n",
       " 'graduation_year': 2019,\n",
       " 'job_title': 'administrative assistant at a law firm',\n",
       " 'hobbies': ['hiking', 'playing video games']}"
      ]
     },
     "execution_count": null,
     "metadata": {},
     "output_type": "execute_result"
    }
   ],
   "source": [
    "structured_info.dict()"
   ]
  },
  {
   "cell_type": "markdown",
   "metadata": {},
   "source": [
    "# Tools\n",
    "## Function Calling\n",
    "Resource: [Tool/Function Calling](https://python.langchain.com/v0.1/docs/modules/model_io/chat/function_calling/)"
   ]
  },
  {
   "cell_type": "code",
   "execution_count": null,
   "metadata": {},
   "outputs": [],
   "source": [
    "from langchain_core.tools import tool"
   ]
  },
  {
   "cell_type": "code",
   "execution_count": null,
   "metadata": {},
   "outputs": [],
   "source": [
    "# somewhat optional for this case\n",
    "class MultiplySchema(BaseModel):\n",
    "    \"\"\"Multiply two integer values together. These values must be integers.\"\"\"\n",
    "\n",
    "    a: int = Field(..., description=\"First integer value\")\n",
    "    b: int = Field(..., description=\"Second integer value\")"
   ]
  },
  {
   "cell_type": "code",
   "execution_count": null,
   "metadata": {},
   "outputs": [],
   "source": [
    "@tool\n",
    "def multiply(a: int, b: int) -> int:\n",
    "    \"\"\"Multiplies a and b.\n",
    "\n",
    "    Args:\n",
    "        a: first int\n",
    "        b: second int\n",
    "    \"\"\"\n",
    "    return a * b"
   ]
  },
  {
   "cell_type": "code",
   "execution_count": null,
   "metadata": {},
   "outputs": [],
   "source": [
    "# define available tools\n",
    "tools = [multiply]\n",
    "tool_lookup = {'multiply': multiply}"
   ]
  },
  {
   "cell_type": "code",
   "execution_count": null,
   "metadata": {},
   "outputs": [],
   "source": [
    "# create the model\n",
    "chatllm = ChatOpenAI(model=\"gpt-3.5-turbo-0125\")\n",
    "\n",
    "# binds the tools\n",
    "tool_chatllm = chatllm.bind_tools(tools)"
   ]
  },
  {
   "cell_type": "code",
   "execution_count": null,
   "metadata": {},
   "outputs": [
    {
     "data": {
      "text/plain": [
       "AIMessage(content='', additional_kwargs={'tool_calls': [{'id': 'call_spDMnxZNPW1X9kYiNZeiLw3t', 'function': {'arguments': '{\"a\":6,\"b\":5}', 'name': 'multiply'}, 'type': 'function'}]}, response_metadata={'token_usage': {'completion_tokens': 17, 'prompt_tokens': 83, 'total_tokens': 100}, 'model_name': 'gpt-3.5-turbo-0125', 'system_fingerprint': None, 'finish_reason': 'tool_calls', 'logprobs': None}, id='run-55375e45-017e-4958-9339-42e73ef19434-0', tool_calls=[{'name': 'multiply', 'args': {'a': 6, 'b': 5}, 'id': 'call_spDMnxZNPW1X9kYiNZeiLw3t'}])"
      ]
     },
     "execution_count": null,
     "metadata": {},
     "output_type": "execute_result"
    }
   ],
   "source": [
    "# use\n",
    "tool_response = tool_chatllm.invoke(\"What is 6 times 5?\")\n",
    "\n",
    "# view response\n",
    "tool_response"
   ]
  },
  {
   "cell_type": "code",
   "execution_count": null,
   "metadata": {},
   "outputs": [
    {
     "data": {
      "text/plain": [
       "[{'name': 'multiply',\n",
       "  'args': {'a': 6, 'b': 5},\n",
       "  'id': 'call_spDMnxZNPW1X9kYiNZeiLw3t'}]"
      ]
     },
     "execution_count": null,
     "metadata": {},
     "output_type": "execute_result"
    }
   ],
   "source": [
    "tool_response.tool_calls"
   ]
  },
  {
   "cell_type": "code",
   "execution_count": null,
   "metadata": {},
   "outputs": [
    {
     "data": {
      "text/plain": [
       "30"
      ]
     },
     "execution_count": null,
     "metadata": {},
     "output_type": "execute_result"
    }
   ],
   "source": [
    "# get function that is to be called\n",
    "fn_to_call = tool_response.tool_calls[0]['name']\n",
    "\n",
    "# call function\n",
    "tool_lookup[fn_to_call].invoke(tool_response.tool_calls[0]['args'])"
   ]
  },
  {
   "cell_type": "markdown",
   "metadata": {},
   "source": [
    "### Fitting into the function calling framework\n",
    "Resource: [Langchain v2 Tool Calling](https://python.langchain.com/v0.2/docs/how_to/tool_calling/)"
   ]
  },
  {
   "cell_type": "code",
   "execution_count": null,
   "metadata": {},
   "outputs": [],
   "source": [
    "from langchain_core.messages import HumanMessage, ToolMessage"
   ]
  },
  {
   "cell_type": "code",
   "execution_count": null,
   "metadata": {},
   "outputs": [
    {
     "data": {
      "text/plain": [
       "AIMessage(content='', additional_kwargs={'tool_calls': [{'id': 'call_RdnWnbeLGHXtHWoq171PzeFw', 'function': {'arguments': '{\"a\":6,\"b\":5}', 'name': 'multiply'}, 'type': 'function'}]}, response_metadata={'token_usage': {'completion_tokens': 17, 'prompt_tokens': 95, 'total_tokens': 112}, 'model_name': 'gpt-3.5-turbo-0125', 'system_fingerprint': None, 'finish_reason': 'tool_calls', 'logprobs': None}, id='run-4a87e32f-c4d9-4d26-b88d-41be2f99f49f-0', tool_calls=[{'name': 'multiply', 'args': {'a': 6, 'b': 5}, 'id': 'call_RdnWnbeLGHXtHWoq171PzeFw'}])"
      ]
     },
     "execution_count": null,
     "metadata": {},
     "output_type": "execute_result"
    }
   ],
   "source": [
    "query = \"I have 6 books of 5 pages each. How many pages do I have in total?\"\n",
    "available_tools = {'multiply':multiply}\n",
    "\n",
    "# get response from llm\n",
    "llm_response = tool_chatllm.invoke(query)\n",
    "llm_response"
   ]
  },
  {
   "cell_type": "code",
   "execution_count": null,
   "metadata": {},
   "outputs": [
    {
     "data": {
      "text/plain": [
       "[HumanMessage(content='I have 6 books of 5 pages each. How many pages do I have in total?'),\n",
       " AIMessage(content='', additional_kwargs={'tool_calls': [{'id': 'call_RdnWnbeLGHXtHWoq171PzeFw', 'function': {'arguments': '{\"a\":6,\"b\":5}', 'name': 'multiply'}, 'type': 'function'}]}, response_metadata={'token_usage': {'completion_tokens': 17, 'prompt_tokens': 95, 'total_tokens': 112}, 'model_name': 'gpt-3.5-turbo-0125', 'system_fingerprint': None, 'finish_reason': 'tool_calls', 'logprobs': None}, id='run-4a87e32f-c4d9-4d26-b88d-41be2f99f49f-0', tool_calls=[{'name': 'multiply', 'args': {'a': 6, 'b': 5}, 'id': 'call_RdnWnbeLGHXtHWoq171PzeFw'}]),\n",
       " ToolMessage(content='30', tool_call_id='call_RdnWnbeLGHXtHWoq171PzeFw')]"
      ]
     },
     "execution_count": null,
     "metadata": {},
     "output_type": "execute_result"
    }
   ],
   "source": [
    "# construct message history to complete the rest of the AI Message response\n",
    "message_history = [HumanMessage(query), llm_response]\n",
    "\n",
    "# make all tool calls\n",
    "for tool_call in llm_response.tool_calls:\n",
    "    # get the name of the called tool from the response\n",
    "    called_tool_name = tool_call[\"name\"]\n",
    "\n",
    "    # get the tool object from the available tools\n",
    "    selected_tool = available_tools[called_tool_name]\n",
    "\n",
    "    # actually use the tool using the provided arguments\n",
    "    tool_output = selected_tool.invoke(tool_call[\"args\"])\n",
    "\n",
    "    # append to the message history\n",
    "    message_history.append(ToolMessage(tool_output, tool_call_id=tool_call[\"id\"]))\n",
    "\n",
    "# view the message history    \n",
    "message_history"
   ]
  },
  {
   "cell_type": "code",
   "execution_count": null,
   "metadata": {},
   "outputs": [
    {
     "data": {
      "text/plain": [
       "AIMessage(content='You have a total of 30 pages.', response_metadata={'token_usage': {'completion_tokens': 10, 'prompt_tokens': 120, 'total_tokens': 130}, 'model_name': 'gpt-3.5-turbo-0125', 'system_fingerprint': None, 'finish_reason': 'stop', 'logprobs': None}, id='run-e1b1f1cc-6644-43b1-ae9a-752bf02a843e-0')"
      ]
     },
     "execution_count": null,
     "metadata": {},
     "output_type": "execute_result"
    }
   ],
   "source": [
    "# finish the call to the AI\n",
    "final_answer = tool_chatllm.invoke(message_history)\n",
    "final_answer"
   ]
  },
  {
   "cell_type": "markdown",
   "metadata": {},
   "source": [
    "# Agents\n",
    "Learn more about [Agents](https://python.langchain.com/docs/modules/agents/quick_start) in their Quickstart\n",
    "\n",
    "**Chain Tool Invocation**\n",
    "<figure>\n",
    "<img src='https://python.langchain.com/v0.1/assets/images/tool_chain-3571e7fbc481d648aff93a2630f812ab.svg' height=300/>\n",
    "    <figcaption>\n",
    "        Source: Chain Tool Invocation, from <a href=https://python.langchain.com/v0.1/docs/use_cases/tool_use/>Calling tools with Chains</a>\n",
    "    </figcaption>\n",
    "</figure>\n",
    "\n",
    "**Agent-based Tool Invocation**\n",
    "<figure>\n",
    "<img src='https://python.langchain.com/v0.1/assets/images/tool_agent-d25fafc271da3ee950ac1fba59cdf490.svg' height=400/>\n",
    "    <figcaption>\n",
    "        Source: Agent-based Tool Invocation, from <a href=https://python.langchain.com/v0.1/docs/use_cases/tool_use//>Calling tools with Agents</a>\n",
    "    </figcaption>\n",
    "</figure>\n"
   ]
  },
  {
   "cell_type": "markdown",
   "metadata": {},
   "source": [
    "## Using Tools\n",
    "Resource: [Q&A with RAG -> More -> Using Agents](https://python.langchain.com/v0.1/docs/use_cases/question_answering/conversational_retrieval_agents/)"
   ]
  },
  {
   "cell_type": "markdown",
   "metadata": {},
   "source": [
    "### Choose Tools"
   ]
  },
  {
   "cell_type": "code",
   "execution_count": null,
   "metadata": {},
   "outputs": [],
   "source": [
    "from langchain.tools import DuckDuckGoSearchResults\n",
    "from langchain.agents import AgentExecutor, create_react_agent, create_tool_calling_agent\n",
    "from langchain.prompts import ChatPromptTemplate, HumanMessagePromptTemplate, MessagesPlaceholder\n"
   ]
  },
  {
   "cell_type": "markdown",
   "metadata": {},
   "source": [
    "### Built in tools"
   ]
  },
  {
   "cell_type": "code",
   "execution_count": null,
   "metadata": {},
   "outputs": [
    {
     "data": {
      "text/plain": [
       "\"[snippet: Barack and Michelle Obama's daughters, Malia and Sasha, grew up in the White House from 2009 to 2017. To most of the world, Barack and Michelle Obama are the former president and first lady of ..., title: All About Barack and Michelle Obama's 2 Daughters, Malia and Sasha Obama, link: https://people.com/politics/all-about-barack-obama-michelle-obama-daughters/], [snippet: Malia Obama. On June 4, 1998, Obama and Michelle Obama welcomed their first daughter, Malia Ann Obama, into the world. In 2020, Barack Obama talked to InStyle about his daughter's personality ..., title: Who Are Former President Barack Obama's kids? All About Malia ... - TODAY, link: https://www.today.com/parents/barack-obama-kids-rcna134764], [snippet: Watch: Malia Obama Ditches Her Famous Last Name! Malia Obama is voting for a fresh start. As her Hollywood career takes off, Barack and Michelle Obama 's oldest daughter has dropped her last name ..., title: Malia Obama Is Now Going by This Stage Name - E! Online, link: https://www.eonline.com/news/1395570/malia-obama-is-now-going-by-this-stage-name], [snippet: Few children have had the privilege to spend their childhood inside the hallowed halls of America's house — and Malia and Sasha Obama joined the ranks in 2009 following the historic inauguration ..., title: What Malia And Sasha Obama's Life Is Like Growing Up With Famous ..., link: https://www.nickiswift.com/1491251/what-malia-sasha-obama-life-like-famous-parents/]\""
      ]
     },
     "execution_count": null,
     "metadata": {},
     "output_type": "execute_result"
    }
   ],
   "source": [
    "search = DuckDuckGoSearchResults()\n",
    "\n",
    "# example\n",
    "search.run(\"How many children does Barack Obama have?\")"
   ]
  },
  {
   "cell_type": "code",
   "execution_count": null,
   "metadata": {},
   "outputs": [],
   "source": [
    "# create tools\n",
    "tools = [search]\n",
    "\n",
    "# create llm with bound tools\n",
    "search_llm = ChatOpenAI(model=\"gpt-3.5-turbo-0125\", temperature=0)"
   ]
  },
  {
   "cell_type": "code",
   "execution_count": null,
   "metadata": {},
   "outputs": [],
   "source": [
    "# create prompt\n",
    "search_prompt = ChatPromptTemplate.from_messages([\n",
    "    ('system', \"\"\"You are a helpful assistant. You ALWAYS use the tools you have available instead of relying on internal information.\n",
    "     You are brief and succinct in your responses. You use tools first to find information.\n",
    "     You search the web to find answers about noteworthy figures or recent events.\"\"\"),\n",
    "    ('human', \"{text}\"),\n",
    "    ('placeholder', \"{agent_scratchpad}\")\n",
    "])\n",
    "\n",
    "# create agent\n",
    "agent = create_tool_calling_agent(search_llm, tools, search_prompt)\n",
    "\n",
    "# Create an agent executor by passing in the agent and tools\n",
    "agent_executor = AgentExecutor(agent=agent, tools=tools, verbose=True, return_intermediate_steps=True)\n"
   ]
  },
  {
   "cell_type": "code",
   "execution_count": null,
   "metadata": {},
   "outputs": [
    {
     "name": "stdout",
     "output_type": "stream",
     "text": [
      "\n",
      "\n",
      "\u001b[1m> Entering new AgentExecutor chain...\u001b[0m\n",
      "\u001b[32;1m\u001b[1;3m\n",
      "Invoking: `duckduckgo_results_json` with `{'query': 'Barack Obama children'}`\n",
      "\n",
      "\n",
      "\u001b[0m\u001b[36;1m\u001b[1;3m[snippet: Barack and Michelle Obama's daughters, Malia and Sasha, grew up in the White House from 2009 to 2017. To most of the world, Barack and Michelle Obama are the former president and first lady of ..., title: All About Barack and Michelle Obama's 2 Daughters, Malia and Sasha Obama, link: https://people.com/politics/all-about-barack-obama-michelle-obama-daughters/], [snippet: Malia Obama. On June 4, 1998, Obama and Michelle Obama welcomed their first daughter, Malia Ann Obama, into the world. In 2020, Barack Obama talked to InStyle about his daughter's personality ..., title: Who Are Former President Barack Obama's kids? All About Malia ... - TODAY, link: https://www.today.com/parents/barack-obama-kids-rcna134764], [snippet: The former FLOTUS shares her two daughters with husband Barack Obama. Hanna Fillingham . US Managing Editor. 3 days ago 10 May 2024, 18:46 BST. Share this:, title: Michelle Obama shares photos of ultra-private daughters Malia, 25, and ..., link: https://www.hellomagazine.com/healthandbeauty/mother-and-baby/552790/michelle-obama-rare-photos-daughters-malia-sasha-ahead-of-special-day/], [snippet: Malia Obama is voting for a fresh start. As her Hollywood career takes off, Barack and Michelle Obama 's oldest daughter has dropped her last name in favor of her middle name, officially going by ..., title: Malia Obama Is Now Going by This Stage Name - E! Online, link: https://www.eonline.com/news/1395570/malia-obama-is-now-going-by-this-stage-name]\u001b[0m\u001b[32;1m\u001b[1;3mBarack Obama has two children, Malia and Sasha Obama.\u001b[0m\n",
      "\n",
      "\u001b[1m> Finished chain.\u001b[0m\n"
     ]
    }
   ],
   "source": [
    "# try it out\n",
    "response = agent_executor.invoke({'text':\"How many children does Barack Obama have?\"})"
   ]
  },
  {
   "cell_type": "markdown",
   "metadata": {},
   "source": [
    "### Custom tools"
   ]
  },
  {
   "cell_type": "code",
   "execution_count": null,
   "metadata": {},
   "outputs": [
    {
     "name": "stdout",
     "output_type": "stream",
     "text": [
      "\n",
      "\n",
      "\u001b[1m> Entering new AgentExecutor chain...\u001b[0m\n",
      "\u001b[32;1m\u001b[1;3m\n",
      "Invoking: `multiply` with `{'a': 2, 'b': 2}`\n",
      "\n",
      "\n",
      "\u001b[0m\u001b[33;1m\u001b[1;3m4\u001b[0m\u001b[32;1m\u001b[1;3m\n",
      "Invoking: `duckduckgo_results_json` with `{'query': 'Barack Obama recent baby'}`\n",
      "\n",
      "\n",
      "\u001b[0m\u001b[36;1m\u001b[1;3m[snippet: Barack and Michelle Obama are celebrating their eldest daughter. The former first couple took to Instagram on Tuesday to honor Malia Obama on her 25th birthday. The pair also shares Sasha, 22., title: Barack Obama Honors 'Talented, Hilarious, and Beautiful' Daughter Malia ..., link: https://www.etonline.com/barack-obama-honors-talented-hilarious-and-beautiful-daughter-malia-on-her-25th-birthday-207428], [snippet: Barack and Michelle Obama's daughters, Malia and Sasha, grew up in the White House from 2009 to 2017. To most of the world, Barack and Michelle Obama are the former president and first lady of ..., title: All About Barack and Michelle Obama's 2 Daughters, Malia and Sasha Obama, link: https://people.com/politics/all-about-barack-obama-michelle-obama-daughters/], [snippet: Former first lady and wife Michelle Obama, 59, also wished her \"baby girl\" a happy birthday on Twitter. She shared a sweet childhood picture of Sasha sitting on her lap as they played together., title: Barack Obama Posts Throwback Photo for Daughter Sasha's Birthday, link: https://www.today.com/parents/celebrity/barack-obama-sasha-22nd-birthday-throwback-rcna88762], [snippet: Barack Obama on October 17, 2022 in Chicago, Illinois. His daughter, Malia Ann Obama, on January 18, 2024 in Park City, Utah. The former president's daughter has been dragged into a \"nepo baby ..., title: Barack Obama's Daughter Faces Nepo Baby Backlash - Newsweek, link: https://www.newsweek.com/barack-obama-daughter-sasha-ann-nepo-baby-heart-sundance-1871444]\u001b[0m\u001b[32;1m\u001b[1;3mBarack Obama would have 4 grandchildren if each of his children had 2 children. Additionally, there is no recent information about Barack Obama having a new baby.\u001b[0m\n",
      "\n",
      "\u001b[1m> Finished chain.\u001b[0m\n"
     ]
    }
   ],
   "source": [
    "# create tools\n",
    "tools = [search, multiply]\n",
    "\n",
    "# create agent\n",
    "agent = create_tool_calling_agent(search_llm, tools, search_prompt)\n",
    "\n",
    "# Create an agent executor by passing in the agent and tools\n",
    "agent_executor = AgentExecutor(agent=agent, tools=tools, verbose=True, return_intermediate_steps=True)\n",
    "\n",
    "# try it out\n",
    "response = agent_executor.invoke({'text':\"\"\"How many grand children would Barack Obama have if each of his children had 2 children?\n",
    "                                  I heard he recently had a baby!\"\"\"})"
   ]
  },
  {
   "cell_type": "markdown",
   "metadata": {},
   "source": [
    "## Retrievers as tools"
   ]
  },
  {
   "cell_type": "code",
   "execution_count": null,
   "metadata": {},
   "outputs": [],
   "source": [
    "from bs4 import SoupStrainer\n",
    "from langchain_community.document_loaders import WebBaseLoader\n",
    "from langchain.text_splitter import RecursiveCharacterTextSplitter\n",
    "\n",
    "from langchain_community.embeddings import HuggingFaceEmbeddings\n",
    "from langchain_community.vectorstores import FAISS\n",
    "\n",
    "# Creating custom retriever tools\n",
    "from langchain.tools.retriever import create_retriever_tool"
   ]
  },
  {
   "cell_type": "code",
   "execution_count": null,
   "metadata": {},
   "outputs": [
    {
     "name": "stdout",
     "output_type": "stream",
     "text": [
      "Number of chunks generated:  17\n"
     ]
    }
   ],
   "source": [
    "# use website data\n",
    "sw_website = 'https://simple.wikipedia.org/wiki/Star_Wars_Episode_IV:_A_New_Hope'\n",
    "webloader = WebBaseLoader(sw_website,\n",
    "                       bs_kwargs = {'parse_only':SoupStrainer('div', id='bodyContent')})\n",
    "web_chunks = webloader.load_and_split(RecursiveCharacterTextSplitter(chunk_size=500, chunk_overlap=100, add_start_index=True))\n",
    "print('Number of chunks generated: ', len(web_chunks))\n",
    "\n",
    "# create embeddings\n",
    "embeddings_fn = HuggingFaceEmbeddings(model_name=\"all-MiniLM-L6-v2\") #, model_kwargs={\"device\":'mps'})\n",
    "hf_db = FAISS.from_documents(web_chunks, embeddings_fn)\n",
    "hf_retriever = hf_db.as_retriever(search_kwargs={\"k\":5})"
   ]
  },
  {
   "cell_type": "code",
   "execution_count": null,
   "metadata": {},
   "outputs": [],
   "source": [
    "tool_name = \"Information Retriever for the Star Wars Movie: A New Hope\"\n",
    "description = \"\"\"You MUST use this tool whenever any information is requested about the Star Wars movie: A New Hope.\n",
    "    Make sure to rephrase the query so that it is not a question, but a statement to be compared with\n",
    "    text about the movie.\"\"\"\n",
    "\n",
    "# based off of the Guide we used\n",
    "retriever_tool = create_retriever_tool(\n",
    "    hf_retriever,\n",
    "    tool_name,\n",
    "    description\n",
    ")"
   ]
  },
  {
   "cell_type": "code",
   "execution_count": null,
   "metadata": {},
   "outputs": [],
   "source": [
    "# define tools\n",
    "tools = [search, retriever_tool]"
   ]
  },
  {
   "cell_type": "code",
   "execution_count": null,
   "metadata": {},
   "outputs": [],
   "source": [
    "# create prompt\n",
    "react_prompt = ChatPromptTemplate.from_messages([\n",
    "    MessagesPlaceholder(variable_name=\"chat_history\", optional=True),\n",
    "    HumanMessagePromptTemplate.from_template(template='Answer the following questions as best you can or reply with the most meaningful ' +\n",
    "                                             'response possible. You have access to the following tools:\\n\\n{tools}\\n\\n although you can also reply conversationally when appropriate. '\n",
    "                                             'Use the following format to reason out your response:\\n\\n' +\n",
    "                                             'Question: the input question you must answer or statement to which you should reply\\n' +\n",
    "                                             'Thought: you should always think about what to do\\n' +\n",
    "                                             'Action: the action to take, should be one of [{tool_names}]\\n'+\n",
    "                                             'Action Input: the input to the action, making sure that the inputs are in the valid format for the action\\n'+\n",
    "                                             'Observation: the result of the action\\n... '+\n",
    "                                             '(this Thought/Action/Action Input/Observation can repeat up to 3 times)\\n'+\n",
    "                                             'Thought: I now know the final answer\\n'+\n",
    "                                             'Final Answer: the final answer to the original input question or appropriate response is\\n\\n'+\n",
    "                                             'Begin!\\n\\nQuestion or message: {input}\\nThought:{agent_scratchpad}'),\n",
    "  ]\n",
    ")"
   ]
  },
  {
   "cell_type": "code",
   "execution_count": null,
   "metadata": {},
   "outputs": [],
   "source": [
    "# Create our own llm and agent\n",
    "agent = create_react_agent(model, tools, react_prompt)\n",
    "agent_executor = AgentExecutor(agent=agent, tools=tools, verbose=True, run_intermediate_steps=True)"
   ]
  },
  {
   "cell_type": "code",
   "execution_count": null,
   "metadata": {},
   "outputs": [
    {
     "name": "stdout",
     "output_type": "stream",
     "text": [
      "\n",
      "\n",
      "\u001b[1m> Entering new AgentExecutor chain...\u001b[0m\n",
      "\u001b[32;1m\u001b[1;3mI need to retrieve information about Princess Leia in the movie A New Hope.\n",
      "Action: Information Retriever for the Star Wars Movie: A New Hope\n",
      "Action Input: Princess Leia in A New Hope\u001b[0m\u001b[33;1m\u001b[1;3mPlot[change | change source]\n",
      "The film takes place years after Revenge of the Sith, which was made in 2005 as a prequel. The Rebellion has stolen the secret plans for the Galactic Empire's superweapon known as the Death Star. Darth Vader and his stormtroopers capture Princess Leia Organa, a leader of the Rebellion but she secretly gives the Death Star plans to two droids (robots), C-3PO and R2-D2.\n",
      "\n",
      "Leia. They eventually find her in a cell. As they try to escape, Darth Vader kills Obi-Wan in a lightsaber battle, but the rest of the heroes escape on the Millennium Falcon.\n",
      "\n",
      "Star Wars: Episode IV: A New Hope (initially named Star Wars) is a science fiction movie. It is the first film made in the Star Wars saga, but is the fourth film in the story's timeline. The movie was released in 1977 and also incorporates adventure, action and drama.\n",
      "\n",
      "Official website\n",
      "Star Wars Episode IV: A New Hope on IMDb\n",
      "Star Wars Episode IV: A New Hope at AllMovie\n",
      "Star Wars at the Movie Wiki\n",
      "\n",
      "Wikiquote has a collection of quotations related to: Star Wars Episode IV: A New Hope\u001b[0m\u001b[32;1m\u001b[1;3mPrincess Leia was captured by Darth Vader in A New Hope and gave the Death Star plans to the droids.\n",
      "Final Answer: Princess Leia was captured by Darth Vader in A New Hope and played a crucial role in getting the Death Star plans to the Rebellion.\u001b[0m\n",
      "\n",
      "\u001b[1m> Finished chain.\u001b[0m\n"
     ]
    },
    {
     "data": {
      "text/plain": [
       "{'input': 'What happened to Princess Leia in a New Hope?',\n",
       " 'output': 'Princess Leia was captured by Darth Vader in A New Hope and played a crucial role in getting the Death Star plans to the Rebellion.'}"
      ]
     },
     "execution_count": null,
     "metadata": {},
     "output_type": "execute_result"
    }
   ],
   "source": [
    "# Execute the agent\n",
    "agent_executor.invoke(\n",
    "    {\"input\":\"What happened to Princess Leia in a New Hope?\"}\n",
    ")"
   ]
  },
  {
   "cell_type": "code",
   "execution_count": null,
   "metadata": {},
   "outputs": [
    {
     "name": "stdout",
     "output_type": "stream",
     "text": [
      "\n",
      "\n",
      "\u001b[1m> Entering new AgentExecutor chain...\u001b[0m\n",
      "\u001b[32;1m\u001b[1;3mI need to find out what Obi-Wan did for Luke Skywalker in A New Hope and then see how it influenced the outcome of The Empire Strikes Back.\n",
      "Action: Information Retriever for the Star Wars Movie: A New Hope\n",
      "Action Input: Obi-Wan's actions for Luke Skywalker in A New Hope\u001b[0m\u001b[33;1m\u001b[1;3mObi-Wan explains that the Jedi used a power known as the Force to keep peace in the galaxy until the Empire hunted them down. R2-D2 shows Obi-Wan the distress call from Princess Leia. Luke finds out that stormtroopers have destroyed his home, including his aunt and uncle, in search for R2-D2. Luke decides to accompany Obi-Wan and the droids to Alderaan, Leia's homeworld.\n",
      "\n",
      "Star Wars: Episode IV: A New Hope (initially named Star Wars) is a science fiction movie. It is the first film made in the Star Wars saga, but is the fourth film in the story's timeline. The movie was released in 1977 and also incorporates adventure, action and drama.\n",
      "\n",
      "Wikiquote has a collection of quotations related to: Star Wars Episode IV: A New Hope\n",
      "\n",
      "Official website\n",
      "Star Wars Episode IV: A New Hope on IMDb\n",
      "Star Wars Episode IV: A New Hope at AllMovie\n",
      "Star Wars at the Movie Wiki\n",
      "\n",
      "They arrive at the Rebel base and R2-D2 gives the secret plans to the Rebels and they discover a weakness in the Death Star. They organise an attack on the Death Star in their small ships called starfighters. With the help of the Force, Luke is able to destroy the Death Star. The Rebellion celebrates their victory.\u001b[0m\u001b[32;1m\u001b[1;3mI need to now find out how Obi-Wan's actions for Luke in A New Hope influenced the outcome of The Empire Strikes Back.\n",
      "Action: duckduckgo_results_json\n",
      "Action Input: Influence of Obi-Wan's actions in A New Hope on The Empire Strikes Back\u001b[0m\u001b[36;1m\u001b[1;3m[snippet: When the Obi-Wan Kenobi television series was released on Disney+ in 2022, it added a great deal to the story that Star Wars was telling about Obi-Wan's character. Not only did it expand on this story, but it retroactively added to the story that A New Hope was telling back at the dawn of the franchise. This has not only changed the movie for the better in small but noticeable ways, but the ..., title: All 10 Ways The Obi-Wan Kenobi Disney+ TV Show Changed A New Hope For ..., link: https://screenrant.com/star-wars-obi-wan-kenobi-a-new-hope-improved/], [snippet: Much like the actual twist, the fake twist would have prompted many to rewatch A New Hope and carefully listen to Obi-Wan's lines about Luke's father. And at the end of The Empire Strikes Back—when Luke whispers to himself about Ben not telling him—it would have been in reference to Obi-Wan's betrayal rather than Vader's true identity., title: \"Obi-Wan Killed Your Father\": How Empire Strikes Back's False Twist ..., link: https://screenrant.com/star-wars-empire-strikes-back-obi-wan-false-twist/], [snippet: Summary. In Star Wars: Episode IV - A New Hope, Obi-Wan lets Darth Vader kill him at the end of their duel. Obi-Wan's death had both short-term and long-term consequences that allowed the Rebellion to defeat the Galactic Empire. In Obi-Wan's final moments, he redeemed himself for what he considered his greatest failure., title: Why Did Obi-Wan Kenobi Let Darth Vader Kill Him in Star Wars? - CBR, link: https://www.cbr.com/star-wars-a-new-hope-obi-wan-darth-vader-death-explained/], [snippet: It seemingly left Obi-Wan's comment a non-sequitur, although subsequent retconning cleared up a good deal of the confusion. More importantly, at the time of A New Hope's filming, it hadn't been established that Anakin and Vader were the same person. That wasn't settled in Lucas' mind until the writing of The Empire Strikes Back. So, while the ..., title: Why Does Obi-Wan Call Vader Darth in A New Hope? - CBR, link: https://www.cbr.com/why-obi-wan-calls-vader-darth-theory/]\u001b[0m\u001b[32;1m\u001b[1;3mObi-Wan's actions in A New Hope, particularly sacrificing himself to Darth Vader, had short-term and long-term consequences that allowed the Rebellion to defeat the Galactic Empire. This influenced the outcome of The Empire Strikes Back by setting the stage for Luke's journey and the ultimate confrontation with Vader.\n",
      "Final Answer: Obi-Wan's actions in A New Hope, including his sacrifice, influenced the outcome of The Empire Strikes Back by shaping Luke's path and the eventual defeat of the Galactic Empire.\u001b[0m\n",
      "\n",
      "\u001b[1m> Finished chain.\u001b[0m\n"
     ]
    },
    {
     "data": {
      "text/plain": [
       "{'input': 'What did Obi-Wan do for Luke Skywalker in a New Hope?\\nHow did this influence affect the outcome of the Empire Strikes Back? You can use the web to find out more about other movies.',\n",
       " 'output': \"Obi-Wan's actions in A New Hope, including his sacrifice, influenced the outcome of The Empire Strikes Back by shaping Luke's path and the eventual defeat of the Galactic Empire.\"}"
      ]
     },
     "execution_count": null,
     "metadata": {},
     "output_type": "execute_result"
    }
   ],
   "source": [
    "query = \"\"\"What did Obi-Wan do for Luke Skywalker in a New Hope?\n",
    "How did this influence affect the outcome of the Empire Strikes Back? You can use the web to find out more about other movies.\"\"\"\n",
    "\n",
    "# Execute the agent\n",
    "agent_executor.invoke(\n",
    "    {\"input\":query}\n",
    ")"
   ]
  },
  {
   "cell_type": "markdown",
   "metadata": {},
   "source": [
    "## Adding the conversational component"
   ]
  },
  {
   "cell_type": "code",
   "execution_count": null,
   "metadata": {},
   "outputs": [],
   "source": [
    "from langchain_community.chat_message_histories import ChatMessageHistory\n",
    "from langchain_core.runnables.history import RunnableWithMessageHistory"
   ]
  },
  {
   "cell_type": "code",
   "execution_count": null,
   "metadata": {},
   "outputs": [],
   "source": [
    "# start with empty chat history. We can pass this as a parameter in the invoke\n",
    "message_history = ChatMessageHistory()\n",
    "\n",
    "# Create the agent with chat history\n",
    "agent_with_chat_history = RunnableWithMessageHistory(\n",
    "    agent_executor,\n",
    "    lambda session_id: message_history,\n",
    "    input_messages_key=\"input\",\n",
    "    history_messages_key=\"chat_history\",\n",
    "    handle_parsing_errors = \"Check your output and make sure it conforms, use the Action/Action Input syntax\"\n",
    ")"
   ]
  },
  {
   "cell_type": "code",
   "execution_count": null,
   "metadata": {},
   "outputs": [
    {
     "name": "stderr",
     "output_type": "stream",
     "text": [
      "Parent run 2d79c8d7-9200-443c-aa6e-41f1214298ac not found for run b3fdbbdf-9cb9-4b8b-a958-309c5425074e. Treating as a root run.\n"
     ]
    },
    {
     "name": "stdout",
     "output_type": "stream",
     "text": [
      "\n",
      "\n",
      "\u001b[1m> Entering new AgentExecutor chain...\u001b[0m\n",
      "\u001b[32;1m\u001b[1;3mI need to gather information about Obi-Wan's actions in A New Hope and how they influenced the outcome of The Empire Strikes Back.\n",
      "Action: Information Retriever for the Star Wars Movie: A New Hope\n",
      "Action Input: Obi-Wan's actions in A New Hope\u001b[0m\u001b[33;1m\u001b[1;3mObi-Wan explains that the Jedi used a power known as the Force to keep peace in the galaxy until the Empire hunted them down. R2-D2 shows Obi-Wan the distress call from Princess Leia. Luke finds out that stormtroopers have destroyed his home, including his aunt and uncle, in search for R2-D2. Luke decides to accompany Obi-Wan and the droids to Alderaan, Leia's homeworld.\n",
      "\n",
      "Star Wars: Episode IV: A New Hope (initially named Star Wars) is a science fiction movie. It is the first film made in the Star Wars saga, but is the fourth film in the story's timeline. The movie was released in 1977 and also incorporates adventure, action and drama.\n",
      "\n",
      "Wikiquote has a collection of quotations related to: Star Wars Episode IV: A New Hope\n",
      "\n",
      "Official website\n",
      "Star Wars Episode IV: A New Hope on IMDb\n",
      "Star Wars Episode IV: A New Hope at AllMovie\n",
      "Star Wars at the Movie Wiki\n",
      "\n",
      "Plot[change | change source]\n",
      "The film takes place years after Revenge of the Sith, which was made in 2005 as a prequel. The Rebellion has stolen the secret plans for the Galactic Empire's superweapon known as the Death Star. Darth Vader and his stormtroopers capture Princess Leia Organa, a leader of the Rebellion but she secretly gives the Death Star plans to two droids (robots), C-3PO and R2-D2.\u001b[0m\u001b[32;1m\u001b[1;3mI need to find out how Obi-Wan's actions in A New Hope influenced the outcome of The Empire Strikes Back.\n",
      "Action: duckduckgo_results_json\n",
      "Action Input: Obi-Wan's influence on The Empire Strikes Back\u001b[0m\u001b[36;1m\u001b[1;3m[snippet: The original script for The Empire Strikes Back included a fake twist where Obi-Wan was revealed to have killed Luke's father, instead of Darth Vader being his father. This alternate version would have changed the entire Star Wars universe, with Anakin Skywalker and Darth Vader being two separate people and Obi-Wan portrayed as the true villain., title: \"Obi-Wan Killed Your Father\": How Empire Strikes Back's False Twist ..., link: https://screenrant.com/star-wars-empire-strikes-back-obi-wan-false-twist/], [snippet: When Star Wars: Episode V - The Empire Strikes Back initially hit theaters and revealed that Darth Vader was Luke's father, it also revealed that Obi-Wan lied when he said that Darth Vader killed Anakin Skywalker. However, this was recontextualized in Obi-Wan Kenobi during Obi-Wan's final fight with Darth Vader. The two of them have a ..., title: All 10 Ways The Obi-Wan Kenobi Disney+ TV Show Changed A New Hope For ..., link: https://screenrant.com/star-wars-obi-wan-kenobi-a-new-hope-improved/], [snippet: Star Wars' second-ever installment, The Empire Strikes Back, not only helped to make Star Wars what it is today but also had a massive impact on cinema history, changing it forever in several key ways. While the Star Wars watch order can be somewhat subjective, The Empire Strikes Back at the time marked the franchise's first sequel. Because sequels can be so difficult to pull off, the stakes ..., title: 10 Ways The Empire Strikes Back Changed Hollywood Forever - Screen Rant, link: https://screenrant.com/star-wars-empire-strikes-back-hollywood-history/], [snippet: Of course, no one could have guessed that Boba Fett knew Han Solo's trick because of Obi-Wan in The Empire Strikes Back. Obi-Wan Vs. Count Dooku ... Palpatine's influence had driven a wedge ..., title: Obi-Wan Kenobi's 10 Best Moments In The Star Wars Prequel Trilogy - MSN, link: https://www.msn.com/en-us/entertainment/news/obi-wan-kenobi-s-10-best-moments-in-the-star-wars-prequel-trilogy/ar-AA1j7214]\u001b[0m\u001b[32;1m\u001b[1;3mI now know how Obi-Wan's actions in A New Hope influenced The Empire Strikes Back.\n",
      "Final Answer: Obi-Wan's actions in A New Hope set the stage for key plot points in The Empire Strikes Back, such as the revelation of Darth Vader as Luke's father and the impact of Obi-Wan's character development.\u001b[0m\n",
      "\n",
      "\u001b[1m> Finished chain.\u001b[0m\n"
     ]
    },
    {
     "data": {
      "text/plain": [
       "{'input': 'What did Obi-Wan do for Luke Skywalker in a New Hope?\\nHow did this influence affect the outcome of the Empire Strikes Back? You can use the web to find out more about other movies.',\n",
       " 'chat_history': [],\n",
       " 'output': \"Obi-Wan's actions in A New Hope set the stage for key plot points in The Empire Strikes Back, such as the revelation of Darth Vader as Luke's father and the impact of Obi-Wan's character development.\"}"
      ]
     },
     "execution_count": null,
     "metadata": {},
     "output_type": "execute_result"
    }
   ],
   "source": [
    "# Start chatting away\n",
    "query_1 = \"\"\"What did Obi-Wan do for Luke Skywalker in a New Hope?\n",
    "How did this influence affect the outcome of the Empire Strikes Back? You can use the web to find out more about other movies.\"\"\"\n",
    "\n",
    "session_id_1 = \"session_1\"\n",
    "\n",
    "# Execute the agent\n",
    "agent_with_chat_history.invoke({\"input\":query_1}, config={\"configurable\": {\"session_id\": session_id_1}})"
   ]
  },
  {
   "cell_type": "code",
   "execution_count": null,
   "metadata": {},
   "outputs": [
    {
     "name": "stderr",
     "output_type": "stream",
     "text": [
      "Parent run cf23909f-311a-4fc3-9b18-73b65dc492e4 not found for run a5b95173-cf20-4c54-83b7-fcd85530ad9d. Treating as a root run.\n"
     ]
    },
    {
     "name": "stdout",
     "output_type": "stream",
     "text": [
      "\n",
      "\n",
      "\u001b[1m> Entering new AgentExecutor chain...\u001b[0m\n",
      "\u001b[32;1m\u001b[1;3mI should use the Information Retriever for the Star Wars Movie: A New Hope to find out more about the object that Obi-Wan gave to Luke Skywalker in the movie.\n",
      "\n",
      "Action: Information Retriever for the Star Wars Movie: A New Hope\n",
      "Action Input: Object given to Luke Skywalker by Obi-Wan in A New Hope\u001b[0m\u001b[33;1m\u001b[1;3mObi-Wan explains that the Jedi used a power known as the Force to keep peace in the galaxy until the Empire hunted them down. R2-D2 shows Obi-Wan the distress call from Princess Leia. Luke finds out that stormtroopers have destroyed his home, including his aunt and uncle, in search for R2-D2. Luke decides to accompany Obi-Wan and the droids to Alderaan, Leia's homeworld.\n",
      "\n",
      "They arrive at the Rebel base and R2-D2 gives the secret plans to the Rebels and they discover a weakness in the Death Star. They organise an attack on the Death Star in their small ships called starfighters. With the help of the Force, Luke is able to destroy the Death Star. The Rebellion celebrates their victory.\n",
      "\n",
      "On board the Death Star, Darth Vader and Grand Moff Tarkin interrogate Princess Leia and use the superweapon to destroy her homeworld Alderaan. The Millennium Falcon arrives and they discover Alderaan's destruction. The Death Star uses its technology to capture the Millennium Falcon and bring it aboard the space station. Luke, Han, Obi-Wan and Chewbacca decide to sneak around the station to rescue Leia. They eventually find her in a cell. As they try to escape, Darth Vader kills Obi-Wan in a\n",
      "\n",
      "Star Wars: Episode IV: A New Hope (initially named Star Wars) is a science fiction movie. It is the first film made in the Star Wars saga, but is the fourth film in the story's timeline. The movie was released in 1977 and also incorporates adventure, action and drama.\n",
      "\n",
      "Leia. They eventually find her in a cell. As they try to escape, Darth Vader kills Obi-Wan in a lightsaber battle, but the rest of the heroes escape on the Millennium Falcon.\u001b[0m\u001b[32;1m\u001b[1;3mI should summarize the key details about the object that Obi-Wan gave to Luke Skywalker in A New Hope.\n",
      "\n",
      "Action: Information Retriever for the Star Wars Movie: A New Hope\n",
      "Action Input: Object given to Luke Skywalker by Obi-Wan in A New Hope\u001b[0m\u001b[33;1m\u001b[1;3mObi-Wan explains that the Jedi used a power known as the Force to keep peace in the galaxy until the Empire hunted them down. R2-D2 shows Obi-Wan the distress call from Princess Leia. Luke finds out that stormtroopers have destroyed his home, including his aunt and uncle, in search for R2-D2. Luke decides to accompany Obi-Wan and the droids to Alderaan, Leia's homeworld.\n",
      "\n",
      "They arrive at the Rebel base and R2-D2 gives the secret plans to the Rebels and they discover a weakness in the Death Star. They organise an attack on the Death Star in their small ships called starfighters. With the help of the Force, Luke is able to destroy the Death Star. The Rebellion celebrates their victory.\n",
      "\n",
      "On board the Death Star, Darth Vader and Grand Moff Tarkin interrogate Princess Leia and use the superweapon to destroy her homeworld Alderaan. The Millennium Falcon arrives and they discover Alderaan's destruction. The Death Star uses its technology to capture the Millennium Falcon and bring it aboard the space station. Luke, Han, Obi-Wan and Chewbacca decide to sneak around the station to rescue Leia. They eventually find her in a cell. As they try to escape, Darth Vader kills Obi-Wan in a\n",
      "\n",
      "Star Wars: Episode IV: A New Hope (initially named Star Wars) is a science fiction movie. It is the first film made in the Star Wars saga, but is the fourth film in the story's timeline. The movie was released in 1977 and also incorporates adventure, action and drama.\n",
      "\n",
      "Leia. They eventually find her in a cell. As they try to escape, Darth Vader kills Obi-Wan in a lightsaber battle, but the rest of the heroes escape on the Millennium Falcon.\u001b[0m\u001b[32;1m\u001b[1;3mI now know the final answer.\n",
      "\n",
      "Final Answer: In A New Hope, Obi-Wan gave Luke Skywalker a lightsaber, which was a key weapon and symbol of the Jedi Order.\u001b[0m\n",
      "\n",
      "\u001b[1m> Finished chain.\u001b[0m\n"
     ]
    },
    {
     "data": {
      "text/plain": [
       "{'input': 'Elaborate on your previous answer, and provide details that reference the object that Obi-Wan gave to Luke Skywalker in A New Hope.',\n",
       " 'chat_history': [HumanMessage(content='What did Obi-Wan do for Luke Skywalker in a New Hope?\\nHow did this influence affect the outcome of the Empire Strikes Back? You can use the web to find out more about other movies.'),\n",
       "  AIMessage(content=\"Obi-Wan's actions in A New Hope set the stage for key plot points in The Empire Strikes Back, such as the revelation of Darth Vader as Luke's father and the impact of Obi-Wan's character development.\")],\n",
       " 'output': 'In A New Hope, Obi-Wan gave Luke Skywalker a lightsaber, which was a key weapon and symbol of the Jedi Order.'}"
      ]
     },
     "execution_count": null,
     "metadata": {},
     "output_type": "execute_result"
    }
   ],
   "source": [
    "# Start chatting away\n",
    "query_2 = \"\"\"Elaborate on your previous answer, and provide details that reference the object that Obi-Wan gave to Luke Skywalker in A New Hope.\"\"\"\n",
    "\n",
    "# Execute the agent\n",
    "agent_with_chat_history.invoke({\"input\":query_2}, config={\"configurable\": {\"session_id\": session_id_1}})"
   ]
  },
  {
   "cell_type": "markdown",
   "metadata": {},
   "source": [
    "# Bringing it all together\n",
    "With a user history, a tool, and a retriever, you can now create a conversational agent through a quick UI that can answer questions and provide information."
   ]
  },
  {
   "cell_type": "code",
   "execution_count": null,
   "metadata": {},
   "outputs": [],
   "source": [
    "import gradio as gr"
   ]
  },
  {
   "cell_type": "code",
   "execution_count": null,
   "metadata": {},
   "outputs": [],
   "source": [
    "message_history.clear()\n",
    "session_id_chat = 'session_id_chat'"
   ]
  },
  {
   "cell_type": "code",
   "execution_count": null,
   "metadata": {},
   "outputs": [
    {
     "name": "stdout",
     "output_type": "stream",
     "text": [
      "Running on local URL:  http://127.0.0.1:7860\n",
      "\n",
      "To create a public link, set `share=True` in `launch()`.\n"
     ]
    },
    {
     "data": {
      "text/html": [
       "<div><iframe src=\"http://127.0.0.1:7860/\" width=\"100%\" height=\"500\" allow=\"autoplay; camera; microphone; clipboard-read; clipboard-write;\" frameborder=\"0\" allowfullscreen></iframe></div>"
      ],
      "text/plain": [
       "<IPython.core.display.HTML object>"
      ]
     },
     "metadata": {},
     "output_type": "display_data"
    },
    {
     "data": {
      "text/plain": []
     },
     "execution_count": null,
     "metadata": {},
     "output_type": "execute_result"
    }
   ],
   "source": [
    "# create response\n",
    "def ai_response(user_message, chat_info):\n",
    "    agent_message = {'input':user_message}\n",
    "    response = agent_with_chat_history.invoke(agent_message, config={\"configurable\": {\"session_id\": session_id_chat}})\n",
    "    conversation = message_history.messages\n",
    "    formatted_messages = [(conversation[ind].content, conversation[ind+1].content)\n",
    "                           for ind in range(0, len(conversation), 2)]\n",
    "    return '', formatted_messages\n",
    "\n",
    "# create gradio blocks UI\n",
    "with gr.Blocks() as demo :\n",
    "    chatbot = gr.Chatbot()\n",
    "    msg = gr.Textbox()\n",
    "    clear = gr.ClearButton([msg, chatbot])\n",
    "\n",
    "    msg.submit(ai_response, [msg, chatbot], [msg, chatbot])\n",
    "\n",
    "demo.launch()"
   ]
  },
  {
   "cell_type": "markdown",
   "metadata": {},
   "source": [
    "# OpenAI Assistants - Agents! (?)\n",
    "Resource: [Assistants API](https://platform.openai.com/docs/assistants/overview)\n",
    "\n",
    "Resource: [Platform Documentation - time for the playground!](https://platform.openai.com/playground/assistants)"
   ]
  },
  {
   "cell_type": "markdown",
   "metadata": {},
   "source": [
    "## Conversation"
   ]
  },
  {
   "cell_type": "code",
   "execution_count": null,
   "metadata": {},
   "outputs": [],
   "source": [
    "from openai import OpenAI\n",
    "client = OpenAI()"
   ]
  },
  {
   "cell_type": "code",
   "execution_count": null,
   "metadata": {},
   "outputs": [
    {
     "name": "stdout",
     "output_type": "stream",
     "text": [
      "IMPORTANT: You are using gradio version 4.19.2, however version 4.29.0 is available, please upgrade.\n",
      "--------\n"
     ]
    }
   ],
   "source": [
    "# create assistant with code interpreter\n",
    "assistant = client.beta.assistants.create(\n",
    "    name=\"Math Tutor\",\n",
    "    instructions=\"You are a personal math tutor. Write and run code to answer math questions.\",\n",
    "    tools=[{\"type\": \"code_interpreter\", \"type\": \"file_search\"}],\n",
    "    model=\"gpt-4o\",\n",
    ")"
   ]
  },
  {
   "cell_type": "markdown",
   "metadata": {},
   "source": [
    "EASY message history!"
   ]
  },
  {
   "cell_type": "code",
   "execution_count": null,
   "metadata": {},
   "outputs": [
    {
     "data": {
      "text/plain": [
       "Thread(id='thread_w9jVDGpzd4hBLGX0rsrQmfdF', created_at=1715928365, metadata={}, object='thread', tool_resources=ToolResources(code_interpreter=None, file_search=None))"
      ]
     },
     "execution_count": null,
     "metadata": {},
     "output_type": "execute_result"
    }
   ],
   "source": [
    "# create a thread of message history\n",
    "thread = client.beta.threads.create()\n",
    "thread"
   ]
  },
  {
   "cell_type": "code",
   "execution_count": null,
   "metadata": {},
   "outputs": [
    {
     "data": {
      "text/plain": [
       "Message(id='msg_3WaUjfPYMiSmZDKoO733U5Ud', assistant_id=None, attachments=[], completed_at=None, content=[TextContentBlock(text=Text(annotations=[], value='I need to solve the equation `3x + 11 = 14`. Can you help me?'), type='text')], created_at=1715928365, incomplete_at=None, incomplete_details=None, metadata={}, object='thread.message', role='user', run_id=None, status=None, thread_id='thread_w9jVDGpzd4hBLGX0rsrQmfdF')"
      ]
     },
     "execution_count": null,
     "metadata": {},
     "output_type": "execute_result"
    }
   ],
   "source": [
    "# add a message to the thread\n",
    "message = client.beta.threads.messages.create(\n",
    "  thread_id=thread.id,\n",
    "  role=\"user\",\n",
    "  content=\"I need to solve the equation `3x + 11 = 14`. Can you help me?\"\n",
    ")\n",
    "message"
   ]
  },
  {
   "cell_type": "code",
   "execution_count": null,
   "metadata": {},
   "outputs": [],
   "source": [
    "run = client.beta.threads.runs.create_and_poll(\n",
    "  thread_id=thread.id,\n",
    "  assistant_id=assistant.id,\n",
    "  instructions=\"The user prefers to have concepts explained to them like they're 5. Then, describe it at an appropriate college level.\"\n",
    ")"
   ]
  },
  {
   "cell_type": "code",
   "execution_count": null,
   "metadata": {},
   "outputs": [
    {
     "name": "stdout",
     "output_type": "stream",
     "text": [
      "Finished running.\n"
     ]
    },
    {
     "data": {
      "text/plain": [
       "{'data': [{'id': 'msg_wdsp54KkeXkuOSwGGk5hNhaE',\n",
       "   'assistant_id': 'asst_Vyo3OdCTDib9zeAFqnmoOckJ',\n",
       "   'attachments': [],\n",
       "   'completed_at': None,\n",
       "   'content': [{'text': {'annotations': [],\n",
       "      'value': \"Sure, I can help you with this!\\n\\n### Simple Explanation (like you're 5)\\nImagine you have 3 bags of cookies (each bag is represented by `x`) and 11 loose cookies. If you put them all together, you end up with 14 cookies. To find out how many cookies are in each bag, we need to solve the equation `3x + 11 = 14`.\\n\\n#### Step-by-Step:\\n1. You have `3x` bags and you want to find out how many cookies are in each bag if you already know you have 11 more cookies making the total 14.\\n2. First, take away those 11 loose cookies from the total of 14 cookies.\\n   - \\\\( 14 - 11 = 3 \\\\)\\n3. Now, you are left with 3 cookies, which are divided into the 3 bags (`3x`).\\n4. To know how many cookies are in each bag, you divide those 3 cookies by 3.\\n   - \\\\( 3 \\\\div 3 = 1 \\\\)\\nSo, each bag has 1 cookie. Therefore, \\\\( x = 1 \\\\).\\n\\n### Detailed Explanation (College Level)\\nGiven the linear equation `3x + 11 = 14`, we need to isolate the variable `x` to solve for its value.\\n\\n#### Step-by-Step:\\n1. **Subtract 11 from both sides**:\\n   \\\\[\\n   3x + 11 - 11 = 14 - 11\\n   \\\\]\\n   This simplifies to:\\n   \\\\[\\n   3x = 3\\n   \\\\]\\n\\n2. **Divide both sides by 3** to isolate `x`:\\n   \\\\[\\n   \\\\frac{3x}{3} = \\\\frac{3}{3}\\n   \\\\]\\n   This further simplifies to:\\n   \\\\[\\n   x = 1\\n   \\\\]\\n\\nHence, the solution to the equation `3x + 11 = 14` is \\\\( x = 1 \\\\).\"},\n",
       "     'type': 'text'}],\n",
       "   'created_at': 1715928367,\n",
       "   'incomplete_at': None,\n",
       "   'incomplete_details': None,\n",
       "   'metadata': {},\n",
       "   'object': 'thread.message',\n",
       "   'role': 'assistant',\n",
       "   'run_id': 'run_FjpAQTJvs0gN5HyvWvCEeuec',\n",
       "   'status': None,\n",
       "   'thread_id': 'thread_w9jVDGpzd4hBLGX0rsrQmfdF'},\n",
       "  {'id': 'msg_3WaUjfPYMiSmZDKoO733U5Ud',\n",
       "   'assistant_id': None,\n",
       "   'attachments': [],\n",
       "   'completed_at': None,\n",
       "   'content': [{'text': {'annotations': [],\n",
       "      'value': 'I need to solve the equation `3x + 11 = 14`. Can you help me?'},\n",
       "     'type': 'text'}],\n",
       "   'created_at': 1715928365,\n",
       "   'incomplete_at': None,\n",
       "   'incomplete_details': None,\n",
       "   'metadata': {},\n",
       "   'object': 'thread.message',\n",
       "   'role': 'user',\n",
       "   'run_id': None,\n",
       "   'status': None,\n",
       "   'thread_id': 'thread_w9jVDGpzd4hBLGX0rsrQmfdF'}],\n",
       " 'object': 'list',\n",
       " 'first_id': 'msg_wdsp54KkeXkuOSwGGk5hNhaE',\n",
       " 'last_id': 'msg_3WaUjfPYMiSmZDKoO733U5Ud',\n",
       " 'has_more': False}"
      ]
     },
     "execution_count": null,
     "metadata": {},
     "output_type": "execute_result"
    }
   ],
   "source": [
    "if run.status == 'completed': \n",
    "  messages = client.beta.threads.messages.list(\n",
    "    thread_id=thread.id\n",
    "  )\n",
    "  print('Finished running.')\n",
    "else:\n",
    "  print(run.status)\n",
    "\n",
    "messages.model_dump()"
   ]
  },
  {
   "cell_type": "code",
   "execution_count": null,
   "metadata": {},
   "outputs": [
    {
     "name": "stdout",
     "output_type": "stream",
     "text": [
      "2\n"
     ]
    }
   ],
   "source": [
    "# get message information\n",
    "print(len(messages.data))"
   ]
  },
  {
   "cell_type": "code",
   "execution_count": null,
   "metadata": {},
   "outputs": [
    {
     "name": "stdout",
     "output_type": "stream",
     "text": [
      "Sure, I can help you with this!\n",
      "\n",
      "### Simple Explanation (like you're 5)\n",
      "Imagine you have 3 bags of cookies (each bag is represented by `x`) and 11 loose cookies. If you put them all together, you end up with 14 cookies. To find out how many cookies are in each bag, we need to solve the equation `3x + 11 = 14`.\n",
      "\n",
      "#### Step-by-Step:\n",
      "1. You have `3x` bags and you want to find out how many cookies are in each bag if you already know you have 11 more cookies making the total 14.\n",
      "2. First, take away those 11 loose cookies from the total of 14 cookies.\n",
      "   - \\( 14 - 11 = 3 \\)\n",
      "3. Now, you are left with 3 cookies, which are divided into the 3 bags (`3x`).\n",
      "4. To know how many cookies are in each bag, you divide those 3 cookies by 3.\n",
      "   - \\( 3 \\div 3 = 1 \\)\n",
      "So, each bag has 1 cookie. Therefore, \\( x = 1 \\).\n",
      "\n",
      "### Detailed Explanation (College Level)\n",
      "Given the linear equation `3x + 11 = 14`, we need to isolate the variable `x` to solve for its value.\n",
      "\n",
      "#### Step-by-Step:\n",
      "1. **Subtract 11 from both sides**:\n",
      "   \\[\n",
      "   3x + 11 - 11 = 14 - 11\n",
      "   \\]\n",
      "   This simplifies to:\n",
      "   \\[\n",
      "   3x = 3\n",
      "   \\]\n",
      "\n",
      "2. **Divide both sides by 3** to isolate `x`:\n",
      "   \\[\n",
      "   \\frac{3x}{3} = \\frac{3}{3}\n",
      "   \\]\n",
      "   This further simplifies to:\n",
      "   \\[\n",
      "   x = 1\n",
      "   \\]\n",
      "\n",
      "Hence, the solution to the equation `3x + 11 = 14` is \\( x = 1 \\).\n"
     ]
    }
   ],
   "source": [
    "# view the ai response\n",
    "print(messages.data[0].content[0].text.value)"
   ]
  },
  {
   "cell_type": "code",
   "execution_count": null,
   "metadata": {},
   "outputs": [
    {
     "name": "stdout",
     "output_type": "stream",
     "text": [
      "***** Message 0:\n",
      "Sure, I can help you with this!\n",
      "\n",
      "### Simple Explanation (like you're 5)\n",
      "Imagine you have 3 bags of cookies (each bag is represented by `x`) and 11 loose cookies. If you put them all together, you end up with 14 cookies. To find out how many cookies are in each bag, we need to solve the equation `3x + 11 = 14`.\n",
      "\n",
      "#### Step-by-Step:\n",
      "1. You have `3x` bags and you want to find out how many cookies are in each bag if you already know you have 11 more cookies making the total 14.\n",
      "2. First, take away those 11 loose cookies from the total of 14 cookies.\n",
      "   - \\( 14 - 11 = 3 \\)\n",
      "3. Now, you are left with 3 cookies, which are divided into the 3 bags (`3x`).\n",
      "4. To know how many cookies are in each bag, you divide those 3 cookies by 3.\n",
      "   - \\( 3 \\div 3 = 1 \\)\n",
      "So, each bag has 1 cookie. Therefore, \\( x = 1 \\).\n",
      "\n",
      "### Detailed Explanation (College Level)\n",
      "Given the linear equation `3x + 11 = 14`, we need to isolate the variable `x` to solve for its value.\n",
      "\n",
      "#### Step-by-Step:\n",
      "1. **Subtract 11 from both sides**:\n",
      "   \\[\n",
      "   3x + 11 - 11 = 14 - 11\n",
      "   \\]\n",
      "   This simplifies to:\n",
      "   \\[\n",
      "   3x = 3\n",
      "   \\]\n",
      "\n",
      "2. **Divide both sides by 3** to isolate `x`:\n",
      "   \\[\n",
      "   \\frac{3x}{3} = \\frac{3}{3}\n",
      "   \\]\n",
      "   This further simplifies to:\n",
      "   \\[\n",
      "   x = 1\n",
      "   \\]\n",
      "\n",
      "Hence, the solution to the equation `3x + 11 = 14` is \\( x = 1 \\).\n",
      " *****\n",
      "***** Message 1:\n",
      "I need to solve the equation `3x + 11 = 14`. Can you help me?\n",
      " *****\n"
     ]
    }
   ],
   "source": [
    "# view all messages\n",
    "for ind, message in enumerate(messages.data):\n",
    "    print(f'***** Message {ind}:\\n{message.content[0].text.value}\\n *****')"
   ]
  },
  {
   "cell_type": "code",
   "execution_count": null,
   "metadata": {},
   "outputs": [
    {
     "data": {
      "text/plain": [
       "{'id': 'run_FjpAQTJvs0gN5HyvWvCEeuec',\n",
       " 'assistant_id': 'asst_Vyo3OdCTDib9zeAFqnmoOckJ',\n",
       " 'cancelled_at': None,\n",
       " 'completed_at': 1715928372,\n",
       " 'created_at': 1715928366,\n",
       " 'expires_at': None,\n",
       " 'failed_at': None,\n",
       " 'incomplete_details': None,\n",
       " 'instructions': \"The user prefers to have concepts explained to them like they're 5. Then, describe it at an appropriate college level.\",\n",
       " 'last_error': None,\n",
       " 'max_completion_tokens': None,\n",
       " 'max_prompt_tokens': None,\n",
       " 'metadata': {},\n",
       " 'model': 'gpt-4o',\n",
       " 'object': 'thread.run',\n",
       " 'required_action': None,\n",
       " 'response_format': 'auto',\n",
       " 'started_at': 1715928366,\n",
       " 'status': 'completed',\n",
       " 'thread_id': 'thread_w9jVDGpzd4hBLGX0rsrQmfdF',\n",
       " 'tool_choice': 'auto',\n",
       " 'tools': [{'type': 'file_search'}],\n",
       " 'truncation_strategy': {'type': 'auto', 'last_messages': None},\n",
       " 'usage': {'completion_tokens': 415,\n",
       "  'prompt_tokens': 625,\n",
       "  'total_tokens': 1040},\n",
       " 'temperature': 1.0,\n",
       " 'top_p': 1.0,\n",
       " 'tool_resources': {}}"
      ]
     },
     "execution_count": null,
     "metadata": {},
     "output_type": "execute_result"
    }
   ],
   "source": [
    "# view entire run information\n",
    "run.model_dump()"
   ]
  },
  {
   "cell_type": "markdown",
   "metadata": {},
   "source": [
    "## Tools: Code Interpreter\n",
    "Resource: [Code Interpreter](https://platform.openai.com/docs/assistants/tools/code-interpreter)"
   ]
  },
  {
   "cell_type": "code",
   "execution_count": null,
   "metadata": {},
   "outputs": [
    {
     "name": "stdout",
     "output_type": "stream",
     "text": [
      "  % Total    % Received % Xferd  Average Speed   Time    Time     Time  Current\n",
      "                                 Dload  Upload   Total   Spent    Left  Speed\n",
      "  0     0    0     0    0     0      0      0 --:--:-- --:--:-- --:--:--     0"
     ]
    },
    {
     "name": "stderr",
     "output_type": "stream",
     "text": [
      "huggingface/tokenizers: The current process just got forked, after parallelism has already been used. Disabling parallelism to avoid deadlocks...\n",
      "To disable this warning, you can either:\n",
      "\t- Avoid using `tokenizers` before the fork if possible\n",
      "\t- Explicitly set the environment variable TOKENIZERS_PARALLELISM=(true | false)\n"
     ]
    },
    {
     "name": "stdout",
     "output_type": "stream",
     "text": [
      "100 15241  100 15241    0     0   123k      0 --:--:-- --:--:-- --:--:--  124k\n"
     ]
    }
   ],
   "source": [
    "! curl -o palmer_penguins.csv https://raw.githubusercontent.com/allisonhorst/palmerpenguins/main/inst/extdata/penguins.csv"
   ]
  },
  {
   "cell_type": "code",
   "execution_count": null,
   "metadata": {},
   "outputs": [],
   "source": [
    "# Upload the penguins file to be used directly with a message thread with code interpreter\n",
    "palmer_penguins_data = client.files.create(\n",
    "    file=open(\"palmer_penguins.csv\", \"rb\"),\n",
    "    purpose='assistants'\n",
    ")"
   ]
  },
  {
   "cell_type": "code",
   "execution_count": null,
   "metadata": {},
   "outputs": [],
   "source": [
    "# modify thread to include the penguins file\n",
    "ci_thread = client.beta.threads.create(\n",
    "    tool_resources={\"code_interpreter\": {\"file_ids\": [palmer_penguins_data.id]}}\n",
    ")"
   ]
  },
  {
   "cell_type": "code",
   "execution_count": null,
   "metadata": {},
   "outputs": [],
   "source": [
    "# create new message to call palmer penguins\n",
    "message = client.beta.threads.messages.create(\n",
    "    thread_id=ci_thread.id,\n",
    "    role=\"user\",\n",
    "    content=\"I need to analyze the Palmer Penguins data I uploaded. Create a histogram reflecting the counts of the different species of penguins.\",\n",
    "    attachments=[\n",
    "        {\n",
    "            \"file_id\":palmer_penguins_data.id,\n",
    "            \"tools\":[{\"type\":\"code_interpreter\"}]\n",
    "        }\n",
    "    ]\n",
    ")"
   ]
  },
  {
   "cell_type": "code",
   "execution_count": null,
   "metadata": {},
   "outputs": [],
   "source": [
    "# create run and force use of code interpreter\n",
    "run = client.beta.threads.runs.create_and_poll(\n",
    "  thread_id=ci_thread.id,\n",
    "  assistant_id=assistant.id,\n",
    "  tools=[{\"type\":\"code_interpreter\"}],\n",
    "  tool_choice = {\"type\":\"code_interpreter\"}\n",
    ")"
   ]
  },
  {
   "cell_type": "code",
   "execution_count": null,
   "metadata": {},
   "outputs": [
    {
     "name": "stdout",
     "output_type": "stream",
     "text": [
      "Finished running.\n"
     ]
    },
    {
     "data": {
      "text/plain": [
       "{'data': [{'id': 'msg_VqZdA7s9skm0NORphTKlTpZG',\n",
       "   'assistant_id': 'asst_Vyo3OdCTDib9zeAFqnmoOckJ',\n",
       "   'attachments': [],\n",
       "   'completed_at': None,\n",
       "   'content': [{'image_file': {'file_id': 'file-upfdqadwWqJvYXRztNU3gW8z',\n",
       "      'detail': None},\n",
       "     'type': 'image_file'},\n",
       "    {'text': {'annotations': [],\n",
       "      'value': 'The histogram above depicts the counts of different penguin species in the Palmer Penguins dataset. If you need further analysis or assistance with specific questions, feel free to ask!'},\n",
       "     'type': 'text'}],\n",
       "   'created_at': 1715928434,\n",
       "   'incomplete_at': None,\n",
       "   'incomplete_details': None,\n",
       "   'metadata': {},\n",
       "   'object': 'thread.message',\n",
       "   'role': 'assistant',\n",
       "   'run_id': 'run_z9gdHm5geOrLBUuqbbwjgWBZ',\n",
       "   'status': None,\n",
       "   'thread_id': 'thread_U076ZeuqmWHxPnGoZOglhpWR'},\n",
       "  {'id': 'msg_JLaEniKfbW5PkVpRTSDNifMq',\n",
       "   'assistant_id': None,\n",
       "   'attachments': [{'file_id': 'file-XjCZqsmdOee1S3ckA4npOZiC',\n",
       "     'tools': [{'type': 'code_interpreter'}]}],\n",
       "   'completed_at': None,\n",
       "   'content': [{'text': {'annotations': [],\n",
       "      'value': 'I need to analyze the Palmer Penguins data I uploaded. Create a histogram reflecting the counts of the different species of penguins.'},\n",
       "     'type': 'text'}],\n",
       "   'created_at': 1715928374,\n",
       "   'incomplete_at': None,\n",
       "   'incomplete_details': None,\n",
       "   'metadata': {},\n",
       "   'object': 'thread.message',\n",
       "   'role': 'user',\n",
       "   'run_id': None,\n",
       "   'status': None,\n",
       "   'thread_id': 'thread_U076ZeuqmWHxPnGoZOglhpWR'}],\n",
       " 'object': 'list',\n",
       " 'first_id': 'msg_VqZdA7s9skm0NORphTKlTpZG',\n",
       " 'last_id': 'msg_JLaEniKfbW5PkVpRTSDNifMq',\n",
       " 'has_more': False}"
      ]
     },
     "execution_count": null,
     "metadata": {},
     "output_type": "execute_result"
    }
   ],
   "source": [
    "# check completion and view output\n",
    "if run.status == 'completed': \n",
    "  messages = client.beta.threads.messages.list(\n",
    "    thread_id=ci_thread.id\n",
    "  )\n",
    "  print('Finished running.')\n",
    "else:\n",
    "  print(run.status)\n",
    "\n",
    "messages.model_dump()\n",
    "#run.model_dump()"
   ]
  },
  {
   "cell_type": "code",
   "execution_count": null,
   "metadata": {},
   "outputs": [
    {
     "data": {
      "text/plain": [
       "2"
      ]
     },
     "execution_count": null,
     "metadata": {},
     "output_type": "execute_result"
    }
   ],
   "source": [
    "len(messages.data)"
   ]
  },
  {
   "cell_type": "code",
   "execution_count": null,
   "metadata": {},
   "outputs": [
    {
     "name": "stdout",
     "output_type": "stream",
     "text": [
      "file-upfdqadwWqJvYXRztNU3gW8z\n"
     ]
    }
   ],
   "source": [
    "# retrieve a single image file\n",
    "#generated_image = messages.data[0].content[0].image_file.file_id\n",
    "#print(generated_image)\n",
    "\n",
    "# download using file api\n",
    "#image_data = client.files.content(generated_image)\n",
    "#image_data_bytes = image_data.read()"
   ]
  },
  {
   "cell_type": "markdown",
   "metadata": {},
   "source": [
    "## Retrieval and Vector Stores\n",
    "Resource: [File Search](https://platform.openai.com/docs/assistants/tools/file-search/file-search-beta)"
   ]
  },
  {
   "cell_type": "code",
   "execution_count": null,
   "metadata": {},
   "outputs": [
    {
     "name": "stdout",
     "output_type": "stream",
     "text": [
      "  % Total    % Received % Xferd  Average Speed   Time    Time     Time  Current\n",
      "                                 Dload  Upload   Total   Spent    Left  Speed\n",
      "  0     0    0     0    0     0      0      0 --:--:-- --:--:-- --:--:--     0"
     ]
    },
    {
     "name": "stderr",
     "output_type": "stream",
     "text": [
      "huggingface/tokenizers: The current process just got forked, after parallelism has already been used. Disabling parallelism to avoid deadlocks...\n",
      "To disable this warning, you can either:\n",
      "\t- Avoid using `tokenizers` before the fork if possible\n",
      "\t- Explicitly set the environment variable TOKENIZERS_PARALLELISM=(true | false)\n"
     ]
    },
    {
     "name": "stdout",
     "output_type": "stream",
     "text": [
      "100  724k  100  724k    0     0  3605k      0 --:--:-- --:--:-- --:--:-- 3624k\n"
     ]
    }
   ],
   "source": [
    "! curl -o declaration_independence.pdf https://www.uscis.gov/sites/default/files/document/guides/M-654.pdf"
   ]
  },
  {
   "cell_type": "code",
   "execution_count": null,
   "metadata": {},
   "outputs": [
    {
     "name": "stdout",
     "output_type": "stream",
     "text": [
      "completed\n",
      "FileCounts(cancelled=0, completed=1, failed=0, in_progress=0, total=1)\n"
     ]
    }
   ],
   "source": [
    "# Create a vector store caled \"Financial Statements\"\n",
    "vector_store = client.beta.vector_stores.create(name=\"declaration of independence\")\n",
    " \n",
    "# Ready the files for upload to OpenAI\n",
    "file_paths = [\"declaration_independence.pdf\"]\n",
    "file_streams = [open(path, \"rb\") for path in file_paths]\n",
    " \n",
    "# Use the upload and poll SDK helper to upload the files, add them to the vector store,\n",
    "# and poll the status of the file batch for completion.\n",
    "file_batch = client.beta.vector_stores.file_batches.upload_and_poll(\n",
    "  vector_store_id=vector_store.id, files=file_streams\n",
    ")\n",
    " \n",
    "# You can print the status and the file counts of the batch to see the result of this operation.\n",
    "print(file_batch.status)\n",
    "print(file_batch.file_counts)"
   ]
  },
  {
   "cell_type": "code",
   "execution_count": null,
   "metadata": {},
   "outputs": [],
   "source": [
    "# create assistant with code interpreter\n",
    "history_assistant = client.beta.assistants.create(\n",
    "    name=\"Prominent H. Figure\",\n",
    "    instructions=\"You are a prominent historical figure from the late 1770s. You're an opinionated dynamic oratorical speaker, but you make your point succinctly!\",\n",
    "    tools=[{\"type\": \"file_search\"}],\n",
    "    model=\"gpt-3.5-turbo\",\n",
    ")"
   ]
  },
  {
   "cell_type": "code",
   "execution_count": null,
   "metadata": {},
   "outputs": [],
   "source": [
    "history_assistant = client.beta.assistants.update(\n",
    "  assistant_id=history_assistant.id,\n",
    "  tool_resources={\"file_search\": {\"vector_store_ids\": [vector_store.id]}},\n",
    ")"
   ]
  },
  {
   "cell_type": "code",
   "execution_count": null,
   "metadata": {},
   "outputs": [
    {
     "data": {
      "text/plain": [
       "Thread(id='thread_vYbgwwa3Pq6SZwY6z4StBNqU', created_at=1715928441, metadata={}, object='thread', tool_resources=ToolResources(code_interpreter=None, file_search=None))"
      ]
     },
     "execution_count": null,
     "metadata": {},
     "output_type": "execute_result"
    }
   ],
   "source": [
    "# create thread for history\n",
    "history_thread = client.beta.threads.create()\n",
    "history_thread"
   ]
  },
  {
   "cell_type": "code",
   "execution_count": null,
   "metadata": {},
   "outputs": [
    {
     "data": {
      "text/plain": [
       "Message(id='msg_dPuZNXgFV8W0JN21PlCykomh', assistant_id=None, attachments=[], completed_at=None, content=[TextContentBlock(text=Text(annotations=[], value='What reasons do the authors cite for declaring independence from Great Britain in the Declaration of Independence?'), type='text')], created_at=1715928441, incomplete_at=None, incomplete_details=None, metadata={}, object='thread.message', role='user', run_id=None, status=None, thread_id='thread_vYbgwwa3Pq6SZwY6z4StBNqU')"
      ]
     },
     "execution_count": null,
     "metadata": {},
     "output_type": "execute_result"
    }
   ],
   "source": [
    "# create and send message\n",
    "message = client.beta.threads.messages.create(\n",
    "  thread_id=history_thread.id,\n",
    "  role=\"user\",\n",
    "  content=\"What reasons do the authors cite for declaring independence from Great Britain in the Declaration of Independence?\"\n",
    ")\n",
    "message"
   ]
  },
  {
   "cell_type": "code",
   "execution_count": null,
   "metadata": {},
   "outputs": [
    {
     "name": "stdout",
     "output_type": "stream",
     "text": [
      "Finished running.\n"
     ]
    }
   ],
   "source": [
    "# create run and force use of code interpreter\n",
    "run = client.beta.threads.runs.create_and_poll(\n",
    "  thread_id=history_thread.id,\n",
    "  assistant_id=history_assistant.id,\n",
    ")\n",
    "\n",
    "if run.status == 'completed': \n",
    "  messages = client.beta.threads.messages.list(\n",
    "    thread_id=history_thread.id\n",
    "  )\n",
    "  print('Finished running.')\n",
    "else:\n",
    "  print(run.status)"
   ]
  },
  {
   "cell_type": "code",
   "execution_count": null,
   "metadata": {},
   "outputs": [
    {
     "data": {
      "text/plain": [
       "{'data': [{'id': 'msg_yhI0PRWzcRREpVAKY4uQaP0v',\n",
       "   'assistant_id': 'asst_vi4H4n9ajWiYZTWhMBP16dGY',\n",
       "   'attachments': [],\n",
       "   'completed_at': None,\n",
       "   'content': [{'text': {'annotations': [{'end_index': 1267,\n",
       "        'file_citation': {'file_id': 'file-zCl01AgCTv3P6hnNfWk6i7et',\n",
       "         'quote': None},\n",
       "        'start_index': 1255,\n",
       "        'text': '【4:0†source】',\n",
       "        'type': 'file_citation'},\n",
       "       {'end_index': 1279,\n",
       "        'file_citation': {'file_id': 'file-zCl01AgCTv3P6hnNfWk6i7et',\n",
       "         'quote': None},\n",
       "        'start_index': 1267,\n",
       "        'text': '【4:3†source】',\n",
       "        'type': 'file_citation'}],\n",
       "      'value': \"The authors of the Declaration of Independence cited several reasons for declaring independence from Great Britain. These reasons included:\\n\\n1. Imposing standing armies on the colonies without consent of the legislatures\\n2. Making the military independent of and superior to civil power\\n3. Subjecting the colonies to foreign jurisdiction and laws not recognized by their own laws\\n4. Quartering large bodies of troops among the colonists\\n5. Protecting soldiers through mock trials for crimes committed against the colonists\\n6. Cutting off trade with other parts of the world\\n7. Imposing taxes without the colonists' consent\\n8. Depriving the colonists of the benefits of trial by jury\\n9. Transporting colonists overseas for trial on pretended offenses\\n10. Abolishing laws and altering governments in the colonies\\n11. Suspending colonial legislatures and declaring the power to legislate for the colonies without their consent\\n12. Declaring the colonies out of the King's protection and waging war against them\\n13. Plundering seas, ravaging coasts, burning towns, and destroying lives of the colonists\\n14. Constraining fellow citizens to bear arms against their country or face execution by their hands\\n15. Inciting domestic insurrections among the colonists【4:0†source】【4:3†source】.\"},\n",
       "     'type': 'text'}],\n",
       "   'created_at': 1715928446,\n",
       "   'incomplete_at': None,\n",
       "   'incomplete_details': None,\n",
       "   'metadata': {},\n",
       "   'object': 'thread.message',\n",
       "   'role': 'assistant',\n",
       "   'run_id': 'run_G34H8Ox8zXMEoON5ebRovQts',\n",
       "   'status': None,\n",
       "   'thread_id': 'thread_vYbgwwa3Pq6SZwY6z4StBNqU'},\n",
       "  {'id': 'msg_dPuZNXgFV8W0JN21PlCykomh',\n",
       "   'assistant_id': None,\n",
       "   'attachments': [],\n",
       "   'completed_at': None,\n",
       "   'content': [{'text': {'annotations': [],\n",
       "      'value': 'What reasons do the authors cite for declaring independence from Great Britain in the Declaration of Independence?'},\n",
       "     'type': 'text'}],\n",
       "   'created_at': 1715928441,\n",
       "   'incomplete_at': None,\n",
       "   'incomplete_details': None,\n",
       "   'metadata': {},\n",
       "   'object': 'thread.message',\n",
       "   'role': 'user',\n",
       "   'run_id': None,\n",
       "   'status': None,\n",
       "   'thread_id': 'thread_vYbgwwa3Pq6SZwY6z4StBNqU'}],\n",
       " 'object': 'list',\n",
       " 'first_id': 'msg_yhI0PRWzcRREpVAKY4uQaP0v',\n",
       " 'last_id': 'msg_dPuZNXgFV8W0JN21PlCykomh',\n",
       " 'has_more': False}"
      ]
     },
     "execution_count": null,
     "metadata": {},
     "output_type": "execute_result"
    }
   ],
   "source": [
    "#view result\n",
    "messages.model_dump()"
   ]
  },
  {
   "cell_type": "markdown",
   "metadata": {},
   "source": [
    "# Congratulations!! \n",
    "You have now learned how to use tools, agents, and assistants to enhance the capabilities of your generative AI applications. You have experience using the OpenAI Completions and Assistants API, are able to execute RAG with conversation history, and are able to port this knowledge to also using agents and tools.\n",
    "\n",
    "Next week, we'll start model training - congratulations again!"
   ]
  }
 ],
 "metadata": {
  "kernelspec": {
   "display_name": "python3",
   "name": "python3"
  }
 },
 "nbformat": 4,
 "nbformat_minor": 0
}
