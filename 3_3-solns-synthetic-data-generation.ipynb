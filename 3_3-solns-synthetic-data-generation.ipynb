{
 "cells": [
  {
   "cell_type": "markdown",
   "id": "aa3571cc",
   "metadata": {},
   "source": [
    "<a target=\"_blank\" href=\"https://colab.research.google.com/github/vanderbilt-data-science/ai_summer/blob/main/3_3-solns-synthetic-data-generation.ipynb\">\n",
    "  <img src=\"https://colab.research.google.com/assets/colab-badge.svg\" alt=\"Open In Colab\"/>\n",
    "</a>\n",
    "\n",
    "# Synthetic Data Generation: From Langchain\n",
    "\n",
    "Used nearly completely from: https://python.langchain.com/v0.1/docs/use_cases/data_generation/\n",
    "\n",
    "## Use case\n",
    "\n",
    "Synthetic data is artificially generated data, rather than data collected from real-world events. It's used to simulate real data without compromising privacy or encountering real-world limitations.\n",
    "\n",
    "Benefits of Synthetic Data:\n",
    "\n",
    "1. **Privacy and Security**: No real personal data at risk of breaches.\n",
    "2. **Data Augmentation**: Expands datasets for machine learning.\n",
    "3. **Flexibility**: Create specific or rare scenarios.\n",
    "4. **Cost-effective**: Often cheaper than real-world data collection.\n",
    "5. **Regulatory Compliance**: Helps navigate strict data protection laws.\n",
    "6. **Model Robustness**: Can lead to better generalizing AI models.\n",
    "7. **Rapid Prototyping**: Enables quick testing without real data.\n",
    "8. **Controlled Experimentation**: Simulate specific conditions.\n",
    "9. **Access to Data**: Alternative when real data isn't available.\n",
    "\n",
    "Note: Despite the benefits, synthetic data should be used carefully, as it may not always capture real-world complexities.\n",
    "\n",
    "## Quickstart\n",
    "\n",
    "In this notebook, we'll dive deep into generating synthetic medical billing records using the langchain library. This tool is particularly useful when you want to develop or test algorithms but don't want to use real patient data due to privacy concerns or data availability issues."
   ]
  },
  {
   "cell_type": "markdown",
   "id": "bca57012",
   "metadata": {},
   "source": [
    "### Setup\n",
    "First, you'll need to have the langchain library installed, along with its dependencies. Since we're using the OpenAI generator chain, we'll install that as well. Since this is an experimental lib, we'll need to include `langchain_experimental` in our installs. We'll then import the necessary modules."
   ]
  },
  {
   "cell_type": "code",
   "execution_count": null,
   "id": "f858c671",
   "metadata": {},
   "outputs": [],
   "source": [
    "%pip install --upgrade --quiet  langchain langchain_experimental langchain-openai"
   ]
  },
  {
   "cell_type": "code",
   "execution_count": null,
   "id": "a0377478",
   "metadata": {},
   "outputs": [],
   "source": [
    "from langchain_core.prompts import FewShotPromptTemplate, PromptTemplate\n",
    "from langchain_core.pydantic_v1 import BaseModel\n",
    "from langchain_experimental.tabular_synthetic_data.openai import (\n",
    "    OPENAI_TEMPLATE,\n",
    "    create_openai_data_generator,\n",
    ")\n",
    "from langchain_experimental.tabular_synthetic_data.prompts import (\n",
    "    SYNTHETIC_FEW_SHOT_PREFIX,\n",
    "    SYNTHETIC_FEW_SHOT_SUFFIX,\n",
    ")\n",
    "from langchain_openai import ChatOpenAI"
   ]
  },
  {
   "cell_type": "markdown",
   "id": "a5a0917b",
   "metadata": {},
   "source": [
    "## 1. Define Your Data Model\n",
    "Every dataset has a structure or a \"schema\". The MedicalBilling class below serves as our schema for the synthetic data. By defining this, we're informing our synthetic data generator about the shape and nature of data we expect."
   ]
  },
  {
   "cell_type": "code",
   "execution_count": null,
   "id": "291bad6e",
   "metadata": {},
   "outputs": [],
   "source": [
    "class MedicalBilling(BaseModel):\n",
    "    patient_id: int\n",
    "    patient_name: str\n",
    "    diagnosis_code: str\n",
    "    procedure_code: str\n",
    "    total_charge: float\n",
    "    insurance_claim_amount: float"
   ]
  },
  {
   "cell_type": "markdown",
   "id": "2059ca63",
   "metadata": {},
   "source": [
    "For instance, every record will have a `patient_id` that's an integer, a `patient_name` that's a string, and so on.\n",
    "\n",
    "## 2. Sample Data\n",
    "To guide the synthetic data generator, it's useful to provide it with a few real-world-like examples. These examples serve as a \"seed\" - they're representative of the kind of data you want, and the generator will use them to create more data that looks similar.\n",
    "\n",
    "Here are some fictional medical billing records:"
   ]
  },
  {
   "cell_type": "code",
   "execution_count": null,
   "id": "b989b792",
   "metadata": {},
   "outputs": [],
   "source": [
    "examples = [\n",
    "    {\n",
    "        \"example\": \"\"\"Patient ID: 123456, Patient Name: John Doe, Diagnosis Code:\n",
    "        J20.9, Procedure Code: 99203, Total Charge: $500, Insurance Claim Amount: $350\"\"\"\n",
    "    },\n",
    "    {\n",
    "        \"example\": \"\"\"Patient ID: 789012, Patient Name: Johnson Smith, Diagnosis\n",
    "        Code: M54.5, Procedure Code: 99213, Total Charge: $150, Insurance Claim Amount: $120\"\"\"\n",
    "    },\n",
    "    {\n",
    "        \"example\": \"\"\"Patient ID: 345678, Patient Name: Emily Stone, Diagnosis Code:\n",
    "        E11.9, Procedure Code: 99214, Total Charge: $300, Insurance Claim Amount: $250\"\"\"\n",
    "    },\n",
    "]"
   ]
  },
  {
   "cell_type": "markdown",
   "id": "57e28809",
   "metadata": {},
   "source": [
    "## 3. Craft a Prompt Template\n",
    "The generator doesn't magically know how to create our data; we need to guide it. We do this by creating a prompt template. This template helps instruct the underlying language model on how to produce synthetic data in the desired format."
   ]
  },
  {
   "cell_type": "code",
   "execution_count": null,
   "id": "ea6e042e",
   "metadata": {},
   "outputs": [],
   "source": [
    "OPENAI_TEMPLATE = PromptTemplate(input_variables=[\"example\"], template=\"{example}\")\n",
    "\n",
    "prompt_template = FewShotPromptTemplate(\n",
    "    prefix=SYNTHETIC_FEW_SHOT_PREFIX,\n",
    "    examples=examples,\n",
    "    suffix=SYNTHETIC_FEW_SHOT_SUFFIX,\n",
    "    input_variables=[\"subject\", \"extra\"],\n",
    "    example_prompt=OPENAI_TEMPLATE,\n",
    ")"
   ]
  },
  {
   "cell_type": "code",
   "execution_count": null,
   "id": "4ebc6053",
   "metadata": {},
   "outputs": [
    {
     "name": "stdout",
     "output_type": "stream",
     "text": [
      "This is a test about generating synthetic data about Medical Billing. Examples below:\n",
      "\n",
      "Patient ID: 123456, Patient Name: John Doe, Diagnosis Code:\n",
      "        J20.9, Procedure Code: 99203, Total Charge: $500, Insurance Claim Amount: $350\n",
      "\n",
      "Patient ID: 789012, Patient Name: Johnson Smith, Diagnosis\n",
      "        Code: M54.5, Procedure Code: 99213, Total Charge: $150, Insurance Claim Amount: $120\n",
      "\n",
      "Patient ID: 345678, Patient Name: Emily Stone, Diagnosis Code:\n",
      "        E11.9, Procedure Code: 99214, Total Charge: $300, Insurance Claim Amount: $250\n",
      "\n",
      "Now you generate synthetic data about Medical Billing. Make sure to THIS IS WHERE THE EXTRA GOES:\n"
     ]
    }
   ],
   "source": [
    "print(prompt_template.invoke({\"subject\": \"Medical Billing\", \"extra\": \"THIS IS WHERE THE EXTRA GOES\"}).text)"
   ]
  },
  {
   "cell_type": "markdown",
   "id": "fa6da3cb",
   "metadata": {},
   "source": [
    "The `FewShotPromptTemplate` includes:\n",
    "\n",
    "- `prefix` and `suffix`: These likely contain guiding context or instructions.\n",
    "- `examples`: The sample data we defined earlier.\n",
    "- `input_variables`: These variables (\"subject\", \"extra\") are placeholders you can dynamically fill later. For instance, \"subject\" might be filled with \"medical_billing\" to guide the model further.\n",
    "- `example_prompt`: This prompt template is the format we want each example row to take in our prompt.\n",
    "\n",
    "## 4. Creating the Data Generator\n",
    "With the schema and the prompt ready, the next step is to create the data generator. This object knows how to communicate with the underlying language model to get synthetic data."
   ]
  },
  {
   "cell_type": "code",
   "execution_count": null,
   "id": "795d17b4",
   "metadata": {},
   "outputs": [],
   "source": [
    "# oops, error! let's debug\n",
    "#from google.colab import userdata\n",
    "import os\n",
    "#os.environ['OPENAI_API_KEY'] = userdata.get('OPENAI_API_KEY')"
   ]
  },
  {
   "cell_type": "code",
   "execution_count": null,
   "id": "1b9ba911",
   "metadata": {},
   "outputs": [],
   "source": [
    "synthetic_data_generator = create_openai_data_generator(\n",
    "    output_schema=MedicalBilling,\n",
    "    llm=ChatOpenAI(model_name=\"gpt-4o\", temperature=1),\n",
    "    prompt=prompt_template,\n",
    ")"
   ]
  },
  {
   "cell_type": "markdown",
   "id": "a4198bd6",
   "metadata": {},
   "source": [
    "## 5. Generate Synthetic Data\n",
    "Finally, let's get our synthetic data!"
   ]
  },
  {
   "cell_type": "code",
   "execution_count": null,
   "id": "a424c890",
   "metadata": {},
   "outputs": [],
   "source": [
    "synthetic_results = synthetic_data_generator.generate(\n",
    "    subject=\"medical_billing\",\n",
    "    extra=\"the name must be chosen at random. Make it something you wouldn't normally choose.\",\n",
    "    runs=10,\n",
    ")"
   ]
  },
  {
   "cell_type": "markdown",
   "id": "fa4402e9",
   "metadata": {},
   "source": [
    "This command asks the generator to produce 10 synthetic medical billing records. The results are stored in `synthetic_results`. The output will be a list of the MedicalBilling pydantic models."
   ]
  },
  {
   "cell_type": "code",
   "execution_count": null,
   "id": "6a8af83f",
   "metadata": {},
   "outputs": [
    {
     "data": {
      "text/plain": [
       "[MedicalBilling(patient_id=112233, patient_name='Aerith Gainsborough', diagnosis_code='I10', procedure_code='99215', total_charge=450.0, insurance_claim_amount=400.0),\n",
       " MedicalBilling(patient_id=654321, patient_name='Morgan Thorne', diagnosis_code='J02.9', procedure_code='99212', total_charge=200.0, insurance_claim_amount=160.0),\n",
       " MedicalBilling(patient_id=789012, patient_name='Quincy Vandermeer', diagnosis_code='M54.5', procedure_code='99213', total_charge=350.0, insurance_claim_amount=300.0),\n",
       " MedicalBilling(patient_id=555888, patient_name='Balthazar Ziggler', diagnosis_code='E11.9', procedure_code='99214', total_charge=500.0, insurance_claim_amount=450.0),\n",
       " MedicalBilling(patient_id=123456, patient_name='Zephyr Glowinski', diagnosis_code='H52.4', procedure_code='99211', total_charge=150.0, insurance_claim_amount=120.0),\n",
       " MedicalBilling(patient_id=894563, patient_name='Ulrich Fenwick', diagnosis_code='K21.0', procedure_code='99212', total_charge=280.0, insurance_claim_amount=240.0),\n",
       " MedicalBilling(patient_id=748392, patient_name='Persimmon Nightshade', diagnosis_code='I10', procedure_code='99213', total_charge=350.0, insurance_claim_amount=310.0),\n",
       " MedicalBilling(patient_id=567890, patient_name='Clover Tumblewood', diagnosis_code='J30.1', procedure_code='99214', total_charge=450.0, insurance_claim_amount=410.0),\n",
       " MedicalBilling(patient_id=235671, patient_name='Nimbus Ferngrove', diagnosis_code='E11.9', procedure_code='99215', total_charge=500.0, insurance_claim_amount=450.0),\n",
       " MedicalBilling(patient_id=183457, patient_name='Toodlefrump Wafflebee', diagnosis_code='Z23', procedure_code='99395', total_charge=375.0, insurance_claim_amount=335.0)]"
      ]
     },
     "execution_count": null,
     "metadata": {},
     "output_type": "execute_result"
    }
   ],
   "source": [
    "synthetic_results"
   ]
  },
  {
   "cell_type": "markdown",
   "id": "7dfced7f",
   "metadata": {},
   "source": [
    "## Let generative AI help you code.\n",
    "We can use generative AI to help with next steps."
   ]
  },
  {
   "cell_type": "code",
   "execution_count": null,
   "id": "b2e65583",
   "metadata": {},
   "outputs": [
    {
     "data": {
      "text/html": [
       "<div>\n",
       "<style scoped>\n",
       "    .dataframe tbody tr th:only-of-type {\n",
       "        vertical-align: middle;\n",
       "    }\n",
       "\n",
       "    .dataframe tbody tr th {\n",
       "        vertical-align: top;\n",
       "    }\n",
       "\n",
       "    .dataframe thead th {\n",
       "        text-align: right;\n",
       "    }\n",
       "</style>\n",
       "<table border=\"1\" class=\"dataframe\">\n",
       "  <thead>\n",
       "    <tr style=\"text-align: right;\">\n",
       "      <th></th>\n",
       "      <th>patient_id</th>\n",
       "      <th>patient_name</th>\n",
       "      <th>diagnosis_code</th>\n",
       "      <th>procedure_code</th>\n",
       "      <th>total_charge</th>\n",
       "      <th>insurance_claim_amount</th>\n",
       "    </tr>\n",
       "  </thead>\n",
       "  <tbody>\n",
       "    <tr>\n",
       "      <th>0</th>\n",
       "      <td>112233</td>\n",
       "      <td>Aerith Gainsborough</td>\n",
       "      <td>I10</td>\n",
       "      <td>99215</td>\n",
       "      <td>450.0</td>\n",
       "      <td>400.0</td>\n",
       "    </tr>\n",
       "    <tr>\n",
       "      <th>1</th>\n",
       "      <td>654321</td>\n",
       "      <td>Morgan Thorne</td>\n",
       "      <td>J02.9</td>\n",
       "      <td>99212</td>\n",
       "      <td>200.0</td>\n",
       "      <td>160.0</td>\n",
       "    </tr>\n",
       "    <tr>\n",
       "      <th>2</th>\n",
       "      <td>789012</td>\n",
       "      <td>Quincy Vandermeer</td>\n",
       "      <td>M54.5</td>\n",
       "      <td>99213</td>\n",
       "      <td>350.0</td>\n",
       "      <td>300.0</td>\n",
       "    </tr>\n",
       "    <tr>\n",
       "      <th>3</th>\n",
       "      <td>555888</td>\n",
       "      <td>Balthazar Ziggler</td>\n",
       "      <td>E11.9</td>\n",
       "      <td>99214</td>\n",
       "      <td>500.0</td>\n",
       "      <td>450.0</td>\n",
       "    </tr>\n",
       "    <tr>\n",
       "      <th>4</th>\n",
       "      <td>123456</td>\n",
       "      <td>Zephyr Glowinski</td>\n",
       "      <td>H52.4</td>\n",
       "      <td>99211</td>\n",
       "      <td>150.0</td>\n",
       "      <td>120.0</td>\n",
       "    </tr>\n",
       "    <tr>\n",
       "      <th>5</th>\n",
       "      <td>894563</td>\n",
       "      <td>Ulrich Fenwick</td>\n",
       "      <td>K21.0</td>\n",
       "      <td>99212</td>\n",
       "      <td>280.0</td>\n",
       "      <td>240.0</td>\n",
       "    </tr>\n",
       "    <tr>\n",
       "      <th>6</th>\n",
       "      <td>748392</td>\n",
       "      <td>Persimmon Nightshade</td>\n",
       "      <td>I10</td>\n",
       "      <td>99213</td>\n",
       "      <td>350.0</td>\n",
       "      <td>310.0</td>\n",
       "    </tr>\n",
       "    <tr>\n",
       "      <th>7</th>\n",
       "      <td>567890</td>\n",
       "      <td>Clover Tumblewood</td>\n",
       "      <td>J30.1</td>\n",
       "      <td>99214</td>\n",
       "      <td>450.0</td>\n",
       "      <td>410.0</td>\n",
       "    </tr>\n",
       "    <tr>\n",
       "      <th>8</th>\n",
       "      <td>235671</td>\n",
       "      <td>Nimbus Ferngrove</td>\n",
       "      <td>E11.9</td>\n",
       "      <td>99215</td>\n",
       "      <td>500.0</td>\n",
       "      <td>450.0</td>\n",
       "    </tr>\n",
       "    <tr>\n",
       "      <th>9</th>\n",
       "      <td>183457</td>\n",
       "      <td>Toodlefrump Wafflebee</td>\n",
       "      <td>Z23</td>\n",
       "      <td>99395</td>\n",
       "      <td>375.0</td>\n",
       "      <td>335.0</td>\n",
       "    </tr>\n",
       "  </tbody>\n",
       "</table>\n",
       "</div>"
      ],
      "text/plain": [
       "   patient_id           patient_name diagnosis_code procedure_code  \\\n",
       "0      112233    Aerith Gainsborough            I10          99215   \n",
       "1      654321          Morgan Thorne          J02.9          99212   \n",
       "2      789012      Quincy Vandermeer          M54.5          99213   \n",
       "3      555888      Balthazar Ziggler          E11.9          99214   \n",
       "4      123456       Zephyr Glowinski          H52.4          99211   \n",
       "5      894563         Ulrich Fenwick          K21.0          99212   \n",
       "6      748392   Persimmon Nightshade            I10          99213   \n",
       "7      567890      Clover Tumblewood          J30.1          99214   \n",
       "8      235671       Nimbus Ferngrove          E11.9          99215   \n",
       "9      183457  Toodlefrump Wafflebee            Z23          99395   \n",
       "\n",
       "   total_charge  insurance_claim_amount  \n",
       "0         450.0                   400.0  \n",
       "1         200.0                   160.0  \n",
       "2         350.0                   300.0  \n",
       "3         500.0                   450.0  \n",
       "4         150.0                   120.0  \n",
       "5         280.0                   240.0  \n",
       "6         350.0                   310.0  \n",
       "7         450.0                   410.0  \n",
       "8         500.0                   450.0  \n",
       "9         375.0                   335.0  "
      ]
     },
     "metadata": {},
     "output_type": "display_data"
    }
   ],
   "source": [
    "import pandas as pd\n",
    "\n",
    "# Convert each Pydantic object to a dictionary\n",
    "data_dicts = [item.dict() for item in synthetic_results]\n",
    "\n",
    "# Create a DataFrame\n",
    "df = pd.DataFrame(data_dicts)\n",
    "\n",
    "display(df)"
   ]
  },
  {
   "cell_type": "code",
   "execution_count": null,
   "id": "3eecbed5",
   "metadata": {},
   "outputs": [],
   "source": [
    "# save df to csv\n",
    "df.to_csv('synthetic_data.csv', index=False)"
   ]
  },
  {
   "cell_type": "code",
   "execution_count": null,
   "id": "0317abc8",
   "metadata": {},
   "outputs": [
    {
     "data": {
      "image/png": "[encoded data removed]",
      "text/plain": [
       "<Figure size 640x480 with 1 Axes>"
      ]
     },
     "metadata": {},
     "output_type": "display_data"
    }
   ],
   "source": [
    "# import matplotlib.pyplot\n",
    "import matplotlib.pyplot as plt\n",
    "\n",
    "# prompt: Using dataframe df: histogram of total_charge\n",
    "df['total_charge'].hist()\n",
    "\n",
    "# add histogram of insurance_claim_amount\n",
    "df['insurance_claim_amount'].hist()\n",
    "\n",
    "# add title\n",
    "plt.title('Histogram of Total Charge')\n",
    "\n",
    "# add x label\n",
    "plt.xlabel('Total Charge')\n",
    "\n",
    "# add y label\n",
    "plt.ylabel('Frequency')\n",
    "\n",
    "# add legend\n",
    "plt.legend(['Total Charge', 'Insurance Claim Amount'])\n",
    "\n",
    "# show plot\n",
    "plt.show()"
   ]
  }
 ],
 "metadata": {
  "kernelspec": {
   "display_name": "Python 3 (ipykernel)",
   "language": "python",
   "name": "python3"
  }
 },
 "nbformat": 4,
 "nbformat_minor": 5
}
